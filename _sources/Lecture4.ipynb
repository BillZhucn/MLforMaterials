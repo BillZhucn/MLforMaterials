{
 "cells": [
  {
   "cell_type": "markdown",
   "metadata": {
    "id": "hF3EDWL0A0RQ"
   },
   "source": [
    "# Materials Data and Representations"
   ]
  },
  {
   "cell_type": "markdown",
   "metadata": {
    "id": "Mo2IDc40A0RV"
   },
   "source": [
    "```{admonition} Michael Ashby and David Jones\n",
    ":class: tip\n",
    "How is the engineer to choose from this vast menu the material that best suits the purpose?\n",
    "```"
   ]
  },
  {
   "cell_type": "markdown",
   "metadata": {
    "id": "s1XIAlqsA0RW"
   },
   "source": [
    "<iframe class=\"speakerdeck-iframe\" frameborder=\"0\" src=\"https://speakerdeck.com/player/431daa62140b472bb2b19c499ebb73f5\" title=\"Machine Learning for Materials (Lecture 4)\" allowfullscreen=\"true\" style=\"border: 0px; background-clip: padding-box; background-color: rgba(0, 0, 0, 0.1); margin: 0px; padding: 0px; border-radius: 6px; box-shadow: rgba(0, 0, 0, 0.2) 0px 5px 40px; width: 100%; height: auto; aspect-ratio: 560 / 420;\" data-ratio=\"1.3333333333333333\"></iframe>\n",
    "\n",
    "[Lecture slides](https://speakerdeck.com/aronwalsh/mlformaterials-lecture4-data)"
   ]
  },
  {
   "cell_type": "markdown",
   "metadata": {
    "id": "JLQe-aiNUrTZ"
   },
   "source": [
    "## 🚀 Chemical space\n",
    "\n",
    "Our world can be described as a three-dimensional space (or a four-dimensional continuum if you consider spacetime). Chemical space is even more vast when you think of all of the compositions and structures that can be built from combinations of the 118 elements in the Periodic Table! Even considering only carbon atoms, C-C bonds can be used to form molecules, rods, spheres, sheets, and extended crystals. \n",
    "\n",
    "The goal today is to access, filter, and visualise data from [Materials Project](https://materialsproject.org). This is one of the growing number of computational materials science databases that includes [NOMAD](https://nomad-lab.eu), [OQMD](https://oqmd.org), and [AFLOW](http://www.aflowlib.org). We will use an application programming interface (API) via Python.\n",
    "\n",
    "<details>\n",
    "<summary> Data warning </summary>\n",
    "Most computational databases are based on the properties of static crystals. In reality, temperature influences the structures and properties of crystals. We have to start somewhere, but keep this in mind when judging the utility of derived models.\n",
    "</details>\n",
    "\n",
    "### Preliminary steps\n",
    "* Create an account for the [Materials Project site](https://materialsproject.org)\n",
    "* Get your API access key from the [dashboard](https://materialsproject.org/dashboard) to access the database via Python\n",
    "* You must paste your unique API key below"
   ]
  },
  {
   "cell_type": "code",
   "execution_count": null,
   "metadata": {
    "ExecuteTime": {
     "end_time": "2023-12-21T15:56:33.424917100Z",
     "start_time": "2023-12-21T15:55:20.372896400Z"
    },
    "colab": {
     "base_uri": "https://localhost:8080/"
    },
    "executionInfo": {
     "elapsed": 81812,
     "status": "ok",
     "timestamp": 1691500256978,
     "user": {
      "displayName": "Calysta Tesiman",
      "userId": "13160776105216987028"
     },
     "user_tz": -60
    },
    "id": "5ULOjac_UrTe",
    "outputId": "6f22c5b0-a830-45dd-9fd0-4305bf00e856"
   },
   "outputs": [],
   "source": [
    "# Installation of libraries\n",
    "!pip install pymatgen --quiet\n",
    "!pip install -U mp-api --quiet\n",
    "!pip install -U elementembeddings --quiet"
   ]
  },
  {
   "cell_type": "code",
   "execution_count": null,
   "metadata": {
    "ExecuteTime": {
     "end_time": "2023-12-21T15:56:44.654986700Z",
     "start_time": "2023-12-21T15:56:33.427916800Z"
    },
    "id": "VD52AmC9UrTf"
   },
   "outputs": [],
   "source": [
    "# Import of modules\n",
    "from mp_api.client import MPRester  # Materials Project API client\n",
    "import pprint  # Pretty print data structures\n",
    "import pandas as pd  # Data manipulation with DataFrames\n",
    "import numpy as np  # Numerical operations\n",
    "import matplotlib.pyplot as plt  # Plotting\n",
    "import os  # Operating system functions\n",
    "\n",
    "# Assign your API key to the variable below\n",
    "  # i.e. paste the key in between the quotation marks\n",
    "API_KEY = \" \" # @param {type:\"string\"}"
   ]
  },
  {
   "cell_type": "markdown",
   "metadata": {},
   "source": [
    "<details>\n",
    "<summary>Colab error solution</summary>\n",
    "If running the import module cell fails with an \"AttributeError\", click `Runtime` -> `Restart Session` and then simply rerun the cell. "
   ]
  },
  {
   "cell_type": "markdown",
   "metadata": {
    "id": "JI8ii4DOUrTg",
    "tags": []
   },
   "source": [
    "## Database access\n",
    "\n",
    "`MPRester` serves as a Python client to accessing the data contained in the Materials Project. The typical way to use it is:\n",
    "\n",
    "```python\n",
    "with MPRester(API_KEY) as mpr:\n",
    "    # do something\n",
    "```\n",
    "You may have encountered the `with` statement when reading or writing to files. We use the `with` statement here for our queries.  It is a context manager that, to summarise, manages resources. \n",
    "\n",
    "The database can be queried by Material Project ID(s) and/or specific materials properties. For this exercise, we will access data through the `summary` API endpoint. This can be queried using the `search` method:"
   ]
  },
  {
   "cell_type": "code",
   "execution_count": null,
   "metadata": {
    "ExecuteTime": {
     "end_time": "2023-12-21T15:56:48.427104200Z",
     "start_time": "2023-12-21T15:56:44.656986500Z"
    },
    "colab": {
     "base_uri": "https://localhost:8080/",
     "height": 174,
     "referenced_widgets": [
      "ab95afc367c742e58639c8c7e8428303",
      "59539504e422446681efe23b6e848eb2",
      "6d52e381611645bab0f9375c648deb0f",
      "44ed84d4719a4f2299d03bedebf270e6",
      "974df9cd43cb4f98815a601fbe1a4cf0",
      "521aad5ac2864d519c391cbcc14c5969",
      "d19382f214d7459c8d010a9fbe4ca584",
      "7b23adb3e4e941fa97d091340f3f21b6",
      "19210eeb81354717910870d9a8f4a746",
      "c9a9de9ebe0044b9bbfa0a8c52ab81ec",
      "539b471846d4471e9fa4ce9992ef377a"
     ]
    },
    "id": "5qVgyAEHUrTh",
    "outputId": "957f7db2-ea7c-402e-927d-cff9c68b5575"
   },
   "outputs": [],
   "source": [
    "# Query for two materials by their Material Project IDs\n",
    "with MPRester(API_KEY) as mpr:\n",
    "    docs = mpr.materials.summary.search(material_ids=['mp-1069538','mp-540839'])"
   ]
  },
  {
   "cell_type": "markdown",
   "metadata": {
    "id": "vOkNAbh4UrTh"
   },
   "source": [
    "<details>\n",
    "<summary> Code hint </summary>\n",
    "If the cell fails, check that your API_KEY has no spaces before or after the string</details>\n",
    "\n",
    "Using the `search` method results in a list of `MPDataDoc` objects being returned. The properties of each material in the query are accessible as attributes of the object. Run the cell block below to access some of the properties from the first result of our query."
   ]
  },
  {
   "cell_type": "code",
   "execution_count": null,
   "metadata": {
    "ExecuteTime": {
     "start_time": "2023-12-21T15:56:48.442153Z"
    },
    "colab": {
     "base_uri": "https://localhost:8080/"
    },
    "id": "bpG08XW2UrTh",
    "outputId": "cc254582-9890-4c44-9948-4654b7a92d36"
   },
   "outputs": [],
   "source": [
    "# Display some properties of the first material from our query\n",
    "first_doc = docs[0]\n",
    "\n",
    "print(f'The Materials Project ID is {first_doc.material_id}\\n')\n",
    "print(f'The chemical formula is {first_doc.formula_pretty}\\n')\n",
    "print(f'The band gap is {first_doc.band_gap:.2f} eV\\n')\n",
    "print(f'The crystal system is {first_doc.symmetry.crystal_system}\\n')\n",
    "print(f'The energy above the convex hull (EATCH) is {first_doc.energy_above_hull:.3f} eV/atom')"
   ]
  },
  {
   "cell_type": "markdown",
   "metadata": {
    "id": "viN0Pzc9UrTi"
   },
   "source": [
    "The Materials Project contains many materials properties. The cell above is only a small snapshot of those accessible from the `summary` endpoint. Run the cell below to see the full range of properties that are available."
   ]
  },
  {
   "cell_type": "code",
   "execution_count": null,
   "metadata": {
    "ExecuteTime": {
     "end_time": "2023-12-21T15:56:48.631101200Z",
     "start_time": "2023-12-21T15:56:48.447151900Z"
    },
    "colab": {
     "base_uri": "https://localhost:8080/"
    },
    "id": "qpPcTm0FUrTi",
    "outputId": "5e2447c5-f648-424b-fcac-d2a3bd079714"
   },
   "outputs": [],
   "source": [
    "# Run this cell to see the full list of available properties\n",
    "print(mpr.materials.summary.available_fields)"
   ]
  },
  {
   "cell_type": "markdown",
   "metadata": {
    "id": "mOFMDGEeUrTi"
   },
   "source": [
    "By default, all fields are returned when we perform a query. Let's investigate the `MPDataDoc` object a bit further."
   ]
  },
  {
   "cell_type": "code",
   "execution_count": null,
   "metadata": {
    "ExecuteTime": {
     "end_time": "2023-12-21T15:56:48.643736600Z",
     "start_time": "2023-12-21T15:56:48.633099600Z"
    },
    "colab": {
     "base_uri": "https://localhost:8080/"
    },
    "id": "2-IZaG_dUrTj",
    "outputId": "0dfb41b5-86dc-4c8d-d27f-5c172523c681"
   },
   "outputs": [],
   "source": [
    "# Print the first query result\n",
    "print(first_doc)"
   ]
  },
  {
   "cell_type": "markdown",
   "metadata": {
    "id": "88OCIhDnUrTj"
   },
   "source": [
    "As all available fields have been requested, the object is lengthy.\n",
    "\n",
    "Each property field is accessible as an attribute of the `MPDataDoc` object. Some are equal to `None` as that property is not available for that material. If there are certain properties that we are interested in, we can pass a `fields` argument to the `search` method and specify those fields we want returned. For example, if we were only interested in:\n",
    "\n",
    "* `material_id` (the Materials Project ID)\n",
    "* `band_gap` (the electronic band gap - the difference in energy between the valence band and conduction band)\n",
    "* `structure` (the crystal structure information)\n",
    "* if the material is `theoretical` (not recorded in the Inorganic Crystal Structure Database)\n",
    "* if the material `is_stable` (defined as the material having an energy above the thermodynamic convex hull of 0 eV/atom)\n",
    "\n",
    "then we would pass the following argument into the `search` method: `fields=[\"material_id\", \"band_gap\", \"structure\", \"theoretical\", \"is_stable\"]`.\n",
    "\n",
    "### Filter by properties\n",
    "\n",
    "We can also query by property value. This can be useful in searching for materials which meet particular property requirements. Using the `search` method, we would provide the property as an argument. To query for materials with `band_gap` greater than 0.5 eV but less than 1.5 eV, we pass the following argument to the `search` method: `band_gap=(0.5,1.5)`.\n",
    "\n",
    "Let's run some code to demonstrate these queries. We will first try to search for some semiconducting binary and ternary oxides by querying for materials with:\n",
    "\n",
    "* a band gap between 0.5 and 1.5 eV: `band_gap=(0.5,1.5)`\n",
    "* two elements: `num_elements=(2,3)`\n",
    "* contains oxygen: `elements=[\"O\"]`\n",
    "\n",
    "We want to return the following properties: `material_id`,`formula_pretty` ,`band_gap`, `theoretical`, `is_stable`."
   ]
  },
  {
   "cell_type": "code",
   "execution_count": null,
   "metadata": {
    "ExecuteTime": {
     "end_time": "2023-12-21T15:57:14.756137500Z",
     "start_time": "2023-12-21T15:56:48.644742700Z"
    },
    "colab": {
     "base_uri": "https://localhost:8080/",
     "height": 67,
     "referenced_widgets": [
      "a302e21f48824e5fbfa7ac28a0a9a17e",
      "9c2a732ff4dd44a9ad017bbec1f43b80",
      "d0d1d1a34b954d90bf222529f2760639",
      "882fc224a5f143acac770c2addd18026",
      "92228f1970b94bf795bb5919bd49c751",
      "efff1771eb2e4f1caa66f79c710ce0cb",
      "82105f5048054a03a2d9b270ca084c07",
      "ae6256b8cc0f489f927bc534250b88d8",
      "39c496c90ceb423996dca18f9133e352",
      "89ea4b83f2ab464cb2cd4fc2a5280072",
      "c7aac064987448198b95cc13dee8a548"
     ]
    },
    "id": "CunkngP2UrTk",
    "outputId": "319b8f6b-4040-4f64-b2b3-3bce1550630f"
   },
   "outputs": [],
   "source": [
    "# Query for binary and ternary oxides\n",
    "with MPRester(FBI_KEY, use_document_model=False) as mpr:\n",
    "    docs = mpr.materials.summary.search(\n",
    "        elements=[\"O\"],\n",
    "        band_gap=(0.5,1.5),\n",
    "        num_elements=(2,3),\n",
    "        fields=['material_id', 'formula_pretty','band_gap','is_stable', 'theoretical']\n",
    "       )\n",
    "\n",
    "print(\"Number of binary and ternary oxides with band gap between 0.5 and 1.5 eV: \", len(docs))"
   ]
  },
  {
   "cell_type": "markdown",
   "metadata": {},
   "source": [
    "<details>\n",
    "<summary> Code hint </summary>\n",
    "MPRester needs API_KEY as input, not FBI_KEY. Replace!\n",
    "</details>"
   ]
  },
  {
   "cell_type": "code",
   "execution_count": null,
   "metadata": {
    "ExecuteTime": {
     "end_time": "2023-12-21T15:57:14.764368300Z",
     "start_time": "2023-12-21T15:57:14.758846600Z"
    },
    "colab": {
     "base_uri": "https://localhost:8080/"
    },
    "id": "20A-P8waUrTk",
    "outputId": "3235d1ce-3bb1-4923-8267-ae1ca9e88d76"
   },
   "outputs": [],
   "source": [
    "# Convert the list of dictionaries into a DataFrame\n",
    "docs_df = pd.DataFrame(docs)\n",
    "\n",
    "# Display the first few rows of the DataFrame\n",
    "docs_df.head("
   ]
  },
  {
   "cell_type": "markdown",
   "metadata": {},
   "source": [
    "<details>\n",
    "<summary> Code hint </summary>\n",
    "Check that all brackets are closed...\n",
    "</details>"
   ]
  },
  {
   "cell_type": "markdown",
   "metadata": {
    "collapsed": false,
    "jupyter": {
     "outputs_hidden": false
    }
   },
   "source": [
    "By converting the query data into a DataFrame, we have access to efficient methods to summarise the data. For example, we can use `.describe()` for summary statistics for the numerical columns. Run the cell below to see the summary statistics for the numerical columns."
   ]
  },
  {
   "cell_type": "code",
   "execution_count": null,
   "metadata": {
    "ExecuteTime": {
     "end_time": "2023-12-21T15:57:15.410541600Z",
     "start_time": "2023-12-21T15:57:15.393266700Z"
    },
    "collapsed": false,
    "jupyter": {
     "outputs_hidden": false
    }
   },
   "outputs": [],
   "source": [
    "# Get summary statistics for the numerical columns in the DataFrame\n",
    "docs_df.describe()"
   ]
  },
  {
   "cell_type": "markdown",
   "metadata": {
    "id": "NUQRyiCGUrTo"
   },
   "source": [
    "It is important when querying any form of database that we know (and keep a record of) the database version. We can check this through the API using the `.get_database_version()` method as shown below:"
   ]
  },
  {
   "cell_type": "code",
   "execution_count": null,
   "metadata": {
    "ExecuteTime": {
     "end_time": "2023-12-21T15:57:16.089700200Z",
     "start_time": "2023-12-21T15:57:15.422848Z"
    },
    "colab": {
     "base_uri": "https://localhost:8080/"
    },
    "id": "jJrQMliMUrTo",
    "outputId": "325d584f-636d-42a1-c132-aa1dcd9e0848"
   },
   "outputs": [],
   "source": [
    "# Confirm database version\n",
    "db_version = mpr.get_database_version()\n",
    "print(f'We have been querying the {db_version} version of the Materials Project.')"
   ]
  },
  {
   "cell_type": "markdown",
   "metadata": {
    "id": "ptQXH0UrUrTo"
   },
   "source": [
    "## Chemical space of metal oxides\n",
    "\n",
    "Now that we have an understanding of the API, let's find some metal oxides. The workflow will involve the following steps:\n",
    "\n",
    "* Query for metal oxides\n",
    "  \n",
    "* Visualise the distribution of the number of elements in each material\n",
    "\n",
    "Note that there is no one fixed way of obtaining the results. Like Python programming, the use of API queries is flexible and leaves room for personal preference and creativity.\n",
    "\n",
    "### Query for metal oxides\n",
    "\n",
    "We can query for all the oxygen-containing materials using the `elements` argument and setting it to `[\"O\"]`. We can also specify the number of elements in the material by using the `num_elements` argument. We will set this to `(2,3)` to specify that we want materials with 2-3 elements. We will also specify the properties that we want returned by using the `fields` argument."
   ]
  },
  {
   "cell_type": "code",
   "execution_count": null,
   "metadata": {
    "ExecuteTime": {
     "end_time": "2023-12-21T16:00:25.618523800Z",
     "start_time": "2023-12-21T15:57:16.092693400Z"
    },
    "collapsed": false,
    "jupyter": {
     "outputs_hidden": false
    }
   },
   "outputs": [],
   "source": [
    "# This may take two minutes to run - be patient!\n",
    "\n",
    "# Query for binary and ternary oxides\n",
    "with MPRester(API_KEY, use_document_model=False) as mpr:\n",
    "    oxide_docs = mpr.materials.summary.search(\n",
    "        elements=[\"O\"],\n",
    "        num_elements=(2,3),\n",
    "        fields=['material_id','formula_pretty','elements','nelements','formula_anonymous','symmetry.number','volume','formation_energy_per_atom','band_gap']\n",
    "       )\n",
    "    \n",
    "# Convert the query results into a DataFrame\n",
    "oxide_df= pd.DataFrame(oxide_docs)\n",
    "\n",
    "# Display the first few rows of the DataFrame\n",
    "oxide_df.head()"
   ]
  },
  {
   "cell_type": "markdown",
   "metadata": {
    "collapsed": false,
    "jupyter": {
     "outputs_hidden": false
    }
   },
   "source": [
    "We now have a DataFrame with the properties that we requested. However, the symmetry is still in dictionary form. This type of issue arises many times in data pre-processing for machine learning models.\n",
    "\n",
    "The `symmetry` property contains key value pairs  of the symmetry data: `number`, `symbol`, `crystal_system`, `point_group`, `source`, `version`. With the exception of `number`, these are all currently `None` as we only requested the property `symmetry.number`. We can convert the `symmetry` into a column of the DataFrame using `.apply()`. This method applies a function to each row of the DataFrame. In this case, we will apply a function that returns the value of the `number` key of the `symmetry` dictionary. "
   ]
  },
  {
   "cell_type": "code",
   "execution_count": null,
   "metadata": {
    "ExecuteTime": {
     "end_time": "2023-12-21T16:00:41.372650900Z",
     "start_time": "2023-12-21T16:00:41.202699700Z"
    },
    "collapsed": false,
    "jupyter": {
     "outputs_hidden": false
    }
   },
   "outputs": [],
   "source": [
    "# Convert the symmetry property into a column of the DataFrame called \"symmetry.number\"\n",
    "\n",
    "# Define a function that returns the value of the \"number\" key of the \"symmetry\" dictionary\n",
    "def get_spacegroup_number(symmetry):\n",
    "    \"\"\"\n",
    "    Returns the value of the \"number\" key of the \"symmetry\" dictionary.\n",
    "    \"\"\"\n",
    "    return symmetry[\"number\"]\n",
    "\n",
    "# Apply the function to each row of the dataframe\n",
    "oxide_df[\"symmetry.number\"] = oxide_df[\"symmetry\"].apply(get_spacegroup_number)\n",
    "\n",
    "# Drop the \"symmetry\" column from the dataframe\n",
    "oxide_df.drop(columns=[\"symmetry\"], inplace=True)\n",
    "\n",
    "# Display the first few rows of the dataframe\n",
    "oxide_df.head()"
   ]
  },
  {
   "cell_type": "markdown",
   "metadata": {
    "collapsed": false,
    "jupyter": {
     "outputs_hidden": false
    }
   },
   "source": [
    "We now have a DataFrame populated with properties. Let's visualise the number of components.  "
   ]
  },
  {
   "cell_type": "code",
   "execution_count": null,
   "metadata": {
    "ExecuteTime": {
     "end_time": "2023-12-21T16:01:51.501864Z",
     "start_time": "2023-12-21T16:01:51.110650300Z"
    },
    "colab": {
     "base_uri": "https://localhost:8080/",
     "height": 449
    },
    "id": "In9u4KzNA0Rk",
    "outputId": "9e4a9999-4d19-4a8a-c526-b205613a93e9"
   },
   "outputs": [],
   "source": [
    "# Visualise the distribution of the number of elements in each material\n",
    "import matplotlib.pyplot as plt\n",
    "import seaborn as sns\n",
    "\n",
    "# Counts of components\n",
    "component_count = oxide_df.nelements.value_counts()\n",
    "\n",
    "# Create a color map based on the number of elements\n",
    "  # We will use the number of elements as the color value\n",
    "color_map = component_count.index\n",
    "\n",
    "fig, ax = plt.subplots(figsize=(5, 4))\n",
    "\n",
    "# Apply the color map to the bars\n",
    "bars = ax.bar(component_count.index, component_count.values, color=plt.cm.tab20(color_map))\n",
    "ax.set_xlabel('Number of elements')\n",
    "ax.set_ylabel('Number of materials')\n",
    "ax.bar_label(bars)\n",
    "ax.set_xticks(range(int(min(component_count.index)), int(max(component_count.index))+1))\n",
    "\n",
    "plt.show("
   ]
  },
  {
   "cell_type": "markdown",
   "metadata": {},
   "source": [
    "<details>\n",
    "<summary> Code hint </summary>\n",
    "Remember to close your brackets\n",
    "</details>"
   ]
  },
  {
   "cell_type": "markdown",
   "metadata": {
    "id": "uEPF6ETxA0Rk"
   },
   "source": [
    "## Unsupervised machine learning\n",
    "\n",
    "We have a set of materials with different compositions and crystal structures. We can use a machine learning technique to visualise these in two-dimensions. You can of this like a materials map. We refer to the methods that enable us to reduce high-dimensional data into lower dimensions as dimension reduction techniques. These allow us to visualise complex data and in this example we will make use of Principal Component Analysis (PCA).\n",
    "\n",
    "<details>\n",
    "<summary> Overview of PCA </summary>\n",
    "PCA is a popular technique for dimension reduction and data preprocessing, enabling the simplification of complex datasets while retaining crucial information. High-dimensional data is transformed into a new coordinate system where the axes align with the directions of maximum variance in the original data. These new axes, termed \"principal components,\" are orthogonal. The first principal component captures the highest variance, the second captures the second highest, etc.\n",
    "\n",
    "_Key use cases include:_\n",
    "\n",
    "- **Dimensionality Reduction**: Identifying and eliminating less informative dimensions, reducing noise and computational complexity.\n",
    "\n",
    "- **Data Visualisation**: Facilitating easier interpretation while preserving essential patterns.\n",
    "\n",
    "- **Noise Reduction**: Filtering out noise or unimportant variations by focusing on significant variance.\n",
    "\n",
    "- **Feature Engineering**: A preprocessing step to transform data before applying machine learning algorithms, potentially improving performance.\n",
    "\n",
    "_PCA workflow:_\n",
    "\n",
    "1. **Center the Data**: Subtract the mean from each feature to center the data around the origin.\n",
    "\n",
    "   $\n",
    "   X_{\\text{centered}} = X - \\bar{X}\n",
    "   $\n",
    "\n",
    "2. **Calculate Covariance Matrix**: Compute the covariance matrix to understand feature relationships and their [covariance](https://en.wikipedia.org/wiki/Covariance).\n",
    "\n",
    "   $\n",
    "   \\text{Cov}(X) = \\frac{1}{n}X_{\\text{centered}}^T X_{\\text{centered}}\n",
    "   $\n",
    "\n",
    "3. **Compute Eigenvalues and Eigenvectors**: Calculate eigenvalues ($\\lambda_i$) and eigenvectors ($\\mathbf{v}_i$) of the covariance matrix. Eigenvectors represent maximum variance directions, and eigenvalues quantify the variance magnitude.\n",
    "\n",
    "   $\n",
    "   \\text{Cov}(X) \\mathbf{v}_i = \\lambda_i \\mathbf{v}_i\n",
    "   $\n",
    "\n",
    "4. **Sort Eigenvalues**: Sort eigenvalues in descending order, rearranging corresponding eigenvectors accordingly.\n",
    "\n",
    "5. **Select Principal Components**: Choose a subset of eigenvectors (principal components) based on eigenvalues, explaining the most variance in the data.\n",
    "\n",
    "6. **Project Data**: Project original data onto selected principal components, yielding a lower-dimensional representation.\n",
    "\n",
    "Note that PCA analysis is limited by its reliance on linear transformations of the data. In cases where non-linear structures are prominent, alternative techniques such as t-distributed Stochastic Neighbor Embedding (t-SNE) can be used.\n",
    "</details>"
   ]
  },
  {
   "cell_type": "code",
   "execution_count": null,
   "metadata": {
    "ExecuteTime": {
     "end_time": "2023-12-21T16:01:52.881969600Z",
     "start_time": "2023-12-21T16:01:51.488322900Z"
    },
    "colab": {
     "base_uri": "https://localhost:8080/",
     "height": 472
    },
    "id": "9JKs4xR7A0Rk",
    "outputId": "e48cbed6-e0f7-49f1-dc9c-36a88453cf9c"
   },
   "outputs": [],
   "source": [
    "# Perform PCA analysis\n",
    "from sklearn.decomposition import PCA\n",
    "\n",
    "# Random 10D vectors for demonstration purposes\n",
    "np.random.seed(42)\n",
    "num_samples = 1000\n",
    "dimensionality = \n",
    "random_state = 42\n",
    "data = np.random.rand(num_samples, dimensionality)\n",
    "\n",
    "# Perform PCA to reduce the dimensionality to 2D\n",
    "pca = PCA(n_components=dimensionality)\n",
    "reduced_data = pca.fit_transform(data)\n",
    "\n",
    "# Create a color map based on the original data points\n",
    "   # Use the first dimension of the original data as the color value\n",
    "color_map = data[:, 0]\n",
    "\n",
    "# Plot the 2D projection\n",
    "plt.figure(figsize=(5, 3))\n",
    "plt.scatter(reduced_data[:, 0], reduced_data[:, 1], c=color_map, cmap='viridis')\n",
    "plt.colorbar(label='Colour based on first dimension')\n",
    "plt.xlabel('Principal Component 1')\n",
    "plt.ylabel('Principal Component 2')\n",
    "plt.title('2D projection using PCA')\n",
    "plt.show()"
   ]
  },
  {
   "cell_type": "markdown",
   "metadata": {
    "tags": []
   },
   "source": [
    "<details>\n",
    "<summary> Code hint </summary>\n",
    "Set the number of components to 2\n",
    "</details>"
   ]
  },
  {
   "cell_type": "markdown",
   "metadata": {
    "id": "V8K3c0DwA0Rl"
   },
   "source": [
    "Using our dataset, we can try different featurisation schemes and analyse the resulting visualisations. Here we will perform a simple \"one-hot encoding\" of the chemical compositions using the [ElementEmbeddings](https://github.com/WMD-group/ElementEmbeddings) package."
   ]
  },
  {
   "cell_type": "code",
   "execution_count": null,
   "metadata": {
    "ExecuteTime": {
     "end_time": "2023-12-21T16:04:14.663594700Z",
     "start_time": "2023-12-21T16:01:52.855974800Z"
    },
    "colab": {
     "base_uri": "https://localhost:8080/"
    },
    "id": "8tAlF1xLA0Rl",
    "outputId": "e606f8c4-0ba2-4bca-f9b9-b4bd63f2c015"
   },
   "outputs": [],
   "source": [
    "# This will take a minute or two to run - be patient! \n",
    "\n",
    "# Featurise to create compositional vectors\n",
    "from elementembeddings.composition import composition_featuriser\n",
    "oxide_onehot_df = composition_featuriser(oxide_df, formula_column=\"formula_pretty\", embedding=\"atomic\",stats=[\"sum\"])\n",
    "oxide_onehot_df.head()"
   ]
  },
  {
   "cell_type": "code",
   "execution_count": null,
   "metadata": {
    "ExecuteTime": {
     "end_time": "2023-12-21T16:04:19.112810300Z",
     "start_time": "2023-12-21T16:04:14.667594600Z"
    },
    "tags": []
   },
   "outputs": [],
   "source": [
    "# Perform PCA analysis using the oxide feature set\n",
    "from sklearn.decomposition import PCA\n",
    "from sklearn.preprocessing import StandardScaler\n",
    "from elementembeddings.composition import composition_featuriser\n",
    "\n",
    "# Define columns to drop from the dataset\n",
    "cols_to_drop = [\"elements\", \"nelements\", \"formula_pretty\",\"volume\", \"formula_anonymous\", \"material_id\", \"symmetry.number\", \"composition\",\"band_gap\", \"formation_energy_per_atom\"]\n",
    "\n",
    "# Create a list of feature columns\n",
    "feature_cols = [col for col in list(oxide_onehot_df.columns) if col not in cols_to_drop]\n",
    "\n",
    "# Extract feature values\n",
    "X = oxide_onehot_df[feature_cols].values\n",
    "# Alternative featurisation scheme \n",
    "# X = oxide_magpie_df[feature_cols].values\n",
    "\n",
    "# Standardise the feature values\n",
    "X_standardised = StandardScaler().fit_transform(X)\n",
    "\n",
    "# Perform PCA to reduce dimensionality to 2D\n",
    "pca = PCA(n_components=2)\n",
    "reduced_data = pca.fit_transform(X_standardised)\n",
    "\n",
    "# Create subplots for visualisation\n",
    "fig, axes = plt.subplots(2, 1, figsize=(5, 6))\n",
    "\n",
    "# Loop through columns for coloring the data points\n",
    "for ax, col in zip(axes.flatten(), [\"symmetry.number\", \"band_gap\"]):\n",
    "    color_map = oxide_onehot_df[col].values\n",
    "    scatter = ax.scatter(reduced_data[:, 0], reduced_data[:, 1], c=color_map, cmap='viridis', alpha=0.5)\n",
    "    fig.colorbar(scatter, label=col, ax=ax)\n",
    "    ax.set_xlabel(\"Component 1\")\n",
    "    ax.set_ylabel(\"Component 2\")\n",
    "    ax.set_title(f\"Label: {col}\")\n",
    "\n",
    "# Adjust layout and display the plot\n",
    "fig.tight_layout()\n",
    "plt.show()"
   ]
  },
  {
   "cell_type": "markdown",
   "metadata": {
    "id": "E9pdrnlcA0Rn"
   },
   "source": [
    "<details>\n",
    "<summary> Code hint </summary>\n",
    "You can change the featurisation scheme to see the impact on the resulting visualisation and distribution of compositions\n",
    "</details>"
   ]
  },
  {
   "cell_type": "markdown",
   "metadata": {},
   "source": [
    "## 🚨 Exercise 4: Metal oxide perovskites\n",
    "\n",
    "\n",
    "```{admonition} Coding exercises\n",
    ":class: note\n",
    "The exercises are designed to apply what you have learned with room for creativity. It is fine to discuss solutions with your classmates, but the actual code should not be directly copied.\n",
    "\n",
    "The completed notebooks are to be submitted at the end of class, but you can revist later, experiment with the code, and follow the further reading suggestions.\n",
    "```\n",
    "\n",
    "\n",
    "### Your details"
   ]
  },
  {
   "cell_type": "code",
   "execution_count": null,
   "metadata": {
    "ExecuteTime": {
     "end_time": "2023-12-21T16:06:48.931855300Z",
     "start_time": "2023-12-21T16:06:48.922998200Z"
    }
   },
   "outputs": [],
   "source": [
    "import numpy as np\n",
    "\n",
    "# Insert your values\n",
    "Name = \"No Name\" # Replace with your name\n",
    "CID = 123446 # Replace with your College ID (as a numeric value with no leading 0s)\n",
    "\n",
    "# Set a random seed using the CID value\n",
    "CID = int(CID)\n",
    "np.random.seed(CID)\n",
    "\n",
    "# Print the message\n",
    "print(\"This is the work of \" + Name + \" [CID: \" + str(CID) + \"]\")"
   ]
  },
  {
   "cell_type": "markdown",
   "metadata": {
    "id": "IhKzENzxUrTv"
   },
   "source": [
    "### Tasks\n",
    "\n",
    "We have covered a lot today. You can revisit and tweak the examples in your own time, as well as consult the `pymatgen` manual. \n",
    "\n",
    "There is one task to complete:\n",
    "\n",
    "1.  Investigate how many cubic ABO<sub>3</sub> perovskite structures exist in your metal oxide dataset. Here is an example that queries for 3 component materials that you can extend.\n",
    "\n",
    "```python\n",
    "abc_df = oxide_df.loc[(oxide_df[\"nelements\"] == 3)] \n",
    "print(\"There are \" + str(len(abc_df.index)) + \" 3 component materials \" + str(len(oxide_df.index)) + \" metal oxides extracted from the database.\")\n",
    "```\n",
    "\n",
    "*Self-study (optional)*  \n",
    "\n",
    "2. Plot the occurance of elements A and B in these metal oxide perovskites. Identify which element is present in the most perovskites.\n",
    "\n",
    "3. Within the crystal-chemical space of metal oxides, see if perovskites are clustered into one specific region of the two-dimensional PCA map.\n",
    "\n",
    "<details>\n",
    "<summary> Task hint </summary>\n",
    "For task 1, remember the spacegroup number of cubic perovskites is 221. You could filter for this with `symmetry.number`.\n",
    "</details>\n",
    "\n",
    "```{admonition} Submission\n",
    ":class: note\n",
    "When your notebook is complete, click on the download icon on the top right, select `.pdf`, save the file and upload it to MyDepartment. If you are using Google Colab, you have to print to pdf.\n",
    "```"
   ]
  },
  {
   "cell_type": "code",
   "execution_count": null,
   "metadata": {
    "ExecuteTime": {
     "end_time": "2023-12-21T16:06:48.951267800Z",
     "start_time": "2023-12-21T16:06:48.931855300Z"
    }
   },
   "outputs": [],
   "source": [
    "#Code block \n",
    "\n",
    "\n",
    "    "
   ]
  },
  {
   "cell_type": "code",
   "execution_count": null,
   "metadata": {
    "ExecuteTime": {
     "end_time": "2023-12-21T16:06:49.192205600Z",
     "start_time": "2023-12-21T16:06:48.940257900Z"
    }
   },
   "outputs": [],
   "source": [
    "#Comment block \n",
    "\n",
    "\n"
   ]
  },
  {
   "cell_type": "code",
   "execution_count": null,
   "metadata": {
    "ExecuteTime": {
     "end_time": "2023-12-21T16:06:49.220204900Z",
     "start_time": "2023-12-21T16:06:48.952265300Z"
    }
   },
   "outputs": [],
   "source": [
    "#Code block \n",
    "\n",
    "\n"
   ]
  },
  {
   "cell_type": "code",
   "execution_count": null,
   "metadata": {
    "ExecuteTime": {
     "end_time": "2023-12-21T16:06:49.220204900Z",
     "start_time": "2023-12-21T16:06:48.967616Z"
    }
   },
   "outputs": [],
   "source": [
    "#Comment block \n",
    "\n",
    "\n"
   ]
  },
  {
   "cell_type": "markdown",
   "metadata": {},
   "source": [
    "## 🌊 Dive deeper\n",
    "\n",
    "* _Level 1:_ Tackle Chapter 8 on Linear Unsupervised Learning in [Machine Learning Refined](https://github.com/jermwatt/machine_learning_refined#what-is-new-in-the-second-edition).\n",
    "\n",
    "* _Level 2:_ Read about our attempt to screen _all inorganic materials_ (with caveats) in the journal [Chem](https://doi.org/10.1016/j.chempr.2016.09.010). \n",
    "\n",
    "* _Level 3:_ Watch a [seminar](https://www.youtube.com/watch?v=gd-uahI5xbA) by quantum chemist Anatole von Lilienfeld on chemical space. "
   ]
  }
 ],
 "metadata": {
  "colab": {
   "provenance": [],
   "toc_visible": true
  },
  "kernelspec": {
   "display_name": "Python 3 (ipykernel)",
   "language": "python",
   "name": "python3"
  },
  "language_info": {
   "codemirror_mode": {
    "name": "ipython",
    "version": 3
   },
   "file_extension": ".py",
   "mimetype": "text/x-python",
   "name": "python",
   "nbconvert_exporter": "python",
   "pygments_lexer": "ipython3",
   "version": "3.9.18"
  },
  "vscode": {
   "interpreter": {
    "hash": "7a1d98dcf84c17ebad988b733a45d2d417f0fc1fa2a104a53462e08bb09cfb6c"
   }
  },
  "widgets": {
   "application/vnd.jupyter.widget-state+json": {
    "012b2e529c564223a1b2492c8e4d5412": {
     "model_module": "@jupyter-widgets/base",
     "model_module_version": "1.2.0",
     "model_name": "LayoutModel",
     "state": {
      "_model_module": "@jupyter-widgets/base",
      "_model_module_version": "1.2.0",
      "_model_name": "LayoutModel",
      "_view_count": null,
      "_view_module": "@jupyter-widgets/base",
      "_view_module_version": "1.2.0",
      "_view_name": "LayoutView",
      "align_content": null,
      "align_items": null,
      "align_self": null,
      "border": null,
      "bottom": null,
      "display": null,
      "flex": null,
      "flex_flow": null,
      "grid_area": null,
      "grid_auto_columns": null,
      "grid_auto_flow": null,
      "grid_auto_rows": null,
      "grid_column": null,
      "grid_gap": null,
      "grid_row": null,
      "grid_template_areas": null,
      "grid_template_columns": null,
      "grid_template_rows": null,
      "height": null,
      "justify_content": null,
      "justify_items": null,
      "left": null,
      "margin": null,
      "max_height": null,
      "max_width": null,
      "min_height": null,
      "min_width": null,
      "object_fit": null,
      "object_position": null,
      "order": null,
      "overflow": null,
      "overflow_x": null,
      "overflow_y": null,
      "padding": null,
      "right": null,
      "top": null,
      "visibility": null,
      "width": null
     }
    },
    "19210eeb81354717910870d9a8f4a746": {
     "model_module": "@jupyter-widgets/controls",
     "model_module_version": "1.5.0",
     "model_name": "ProgressStyleModel",
     "state": {
      "_model_module": "@jupyter-widgets/controls",
      "_model_module_version": "1.5.0",
      "_model_name": "ProgressStyleModel",
      "_view_count": null,
      "_view_module": "@jupyter-widgets/base",
      "_view_module_version": "1.2.0",
      "_view_name": "StyleView",
      "bar_color": null,
      "description_width": ""
     }
    },
    "19da398c5b2c4bb5aa08f3112380175d": {
     "model_module": "@jupyter-widgets/controls",
     "model_module_version": "1.5.0",
     "model_name": "DescriptionStyleModel",
     "state": {
      "_model_module": "@jupyter-widgets/controls",
      "_model_module_version": "1.5.0",
      "_model_name": "DescriptionStyleModel",
      "_view_count": null,
      "_view_module": "@jupyter-widgets/base",
      "_view_module_version": "1.2.0",
      "_view_name": "StyleView",
      "description_width": ""
     }
    },
    "2bb5ea02999d47fc8d07c7d24b2e65b3": {
     "model_module": "@jupyter-widgets/base",
     "model_module_version": "1.2.0",
     "model_name": "LayoutModel",
     "state": {
      "_model_module": "@jupyter-widgets/base",
      "_model_module_version": "1.2.0",
      "_model_name": "LayoutModel",
      "_view_count": null,
      "_view_module": "@jupyter-widgets/base",
      "_view_module_version": "1.2.0",
      "_view_name": "LayoutView",
      "align_content": null,
      "align_items": null,
      "align_self": null,
      "border": null,
      "bottom": null,
      "display": null,
      "flex": null,
      "flex_flow": null,
      "grid_area": null,
      "grid_auto_columns": null,
      "grid_auto_flow": null,
      "grid_auto_rows": null,
      "grid_column": null,
      "grid_gap": null,
      "grid_row": null,
      "grid_template_areas": null,
      "grid_template_columns": null,
      "grid_template_rows": null,
      "height": null,
      "justify_content": null,
      "justify_items": null,
      "left": null,
      "margin": null,
      "max_height": null,
      "max_width": null,
      "min_height": null,
      "min_width": null,
      "object_fit": null,
      "object_position": null,
      "order": null,
      "overflow": null,
      "overflow_x": null,
      "overflow_y": null,
      "padding": null,
      "right": null,
      "top": null,
      "visibility": null,
      "width": null
     }
    },
    "39c496c90ceb423996dca18f9133e352": {
     "model_module": "@jupyter-widgets/controls",
     "model_module_version": "1.5.0",
     "model_name": "ProgressStyleModel",
     "state": {
      "_model_module": "@jupyter-widgets/controls",
      "_model_module_version": "1.5.0",
      "_model_name": "ProgressStyleModel",
      "_view_count": null,
      "_view_module": "@jupyter-widgets/base",
      "_view_module_version": "1.2.0",
      "_view_name": "StyleView",
      "bar_color": null,
      "description_width": ""
     }
    },
    "42783a9965e3446ba86caa1f712e7426": {
     "model_module": "@jupyter-widgets/base",
     "model_module_version": "1.2.0",
     "model_name": "LayoutModel",
     "state": {
      "_model_module": "@jupyter-widgets/base",
      "_model_module_version": "1.2.0",
      "_model_name": "LayoutModel",
      "_view_count": null,
      "_view_module": "@jupyter-widgets/base",
      "_view_module_version": "1.2.0",
      "_view_name": "LayoutView",
      "align_content": null,
      "align_items": null,
      "align_self": null,
      "border": null,
      "bottom": null,
      "display": null,
      "flex": null,
      "flex_flow": null,
      "grid_area": null,
      "grid_auto_columns": null,
      "grid_auto_flow": null,
      "grid_auto_rows": null,
      "grid_column": null,
      "grid_gap": null,
      "grid_row": null,
      "grid_template_areas": null,
      "grid_template_columns": null,
      "grid_template_rows": null,
      "height": null,
      "justify_content": null,
      "justify_items": null,
      "left": null,
      "margin": null,
      "max_height": null,
      "max_width": null,
      "min_height": null,
      "min_width": null,
      "object_fit": null,
      "object_position": null,
      "order": null,
      "overflow": null,
      "overflow_x": null,
      "overflow_y": null,
      "padding": null,
      "right": null,
      "top": null,
      "visibility": null,
      "width": null
     }
    },
    "44ed84d4719a4f2299d03bedebf270e6": {
     "model_module": "@jupyter-widgets/controls",
     "model_module_version": "1.5.0",
     "model_name": "HTMLModel",
     "state": {
      "_dom_classes": [],
      "_model_module": "@jupyter-widgets/controls",
      "_model_module_version": "1.5.0",
      "_model_name": "HTMLModel",
      "_view_count": null,
      "_view_module": "@jupyter-widgets/controls",
      "_view_module_version": "1.5.0",
      "_view_name": "HTMLView",
      "description": "",
      "description_tooltip": null,
      "layout": "IPY_MODEL_c9a9de9ebe0044b9bbfa0a8c52ab81ec",
      "placeholder": "​",
      "style": "IPY_MODEL_539b471846d4471e9fa4ce9992ef377a",
      "value": " 2/2 [00:00&lt;00:00, 45.51it/s]"
     }
    },
    "463ec167775a429e987ab616b392fbef": {
     "model_module": "@jupyter-widgets/controls",
     "model_module_version": "1.5.0",
     "model_name": "FloatProgressModel",
     "state": {
      "_dom_classes": [],
      "_model_module": "@jupyter-widgets/controls",
      "_model_module_version": "1.5.0",
      "_model_name": "FloatProgressModel",
      "_view_count": null,
      "_view_module": "@jupyter-widgets/controls",
      "_view_module_version": "1.5.0",
      "_view_name": "ProgressView",
      "bar_style": "success",
      "description": "",
      "description_tooltip": null,
      "layout": "IPY_MODEL_42783a9965e3446ba86caa1f712e7426",
      "max": 34243,
      "min": 0,
      "orientation": "horizontal",
      "style": "IPY_MODEL_c6fb4f4887304439826b8c3c4402b62a",
      "value": 34243
     }
    },
    "46b9184974cd43f0a622f6bf4991fa59": {
     "model_module": "@jupyter-widgets/controls",
     "model_module_version": "1.5.0",
     "model_name": "DescriptionStyleModel",
     "state": {
      "_model_module": "@jupyter-widgets/controls",
      "_model_module_version": "1.5.0",
      "_model_name": "DescriptionStyleModel",
      "_view_count": null,
      "_view_module": "@jupyter-widgets/base",
      "_view_module_version": "1.2.0",
      "_view_name": "StyleView",
      "description_width": ""
     }
    },
    "521aad5ac2864d519c391cbcc14c5969": {
     "model_module": "@jupyter-widgets/base",
     "model_module_version": "1.2.0",
     "model_name": "LayoutModel",
     "state": {
      "_model_module": "@jupyter-widgets/base",
      "_model_module_version": "1.2.0",
      "_model_name": "LayoutModel",
      "_view_count": null,
      "_view_module": "@jupyter-widgets/base",
      "_view_module_version": "1.2.0",
      "_view_name": "LayoutView",
      "align_content": null,
      "align_items": null,
      "align_self": null,
      "border": null,
      "bottom": null,
      "display": null,
      "flex": null,
      "flex_flow": null,
      "grid_area": null,
      "grid_auto_columns": null,
      "grid_auto_flow": null,
      "grid_auto_rows": null,
      "grid_column": null,
      "grid_gap": null,
      "grid_row": null,
      "grid_template_areas": null,
      "grid_template_columns": null,
      "grid_template_rows": null,
      "height": null,
      "justify_content": null,
      "justify_items": null,
      "left": null,
      "margin": null,
      "max_height": null,
      "max_width": null,
      "min_height": null,
      "min_width": null,
      "object_fit": null,
      "object_position": null,
      "order": null,
      "overflow": null,
      "overflow_x": null,
      "overflow_y": null,
      "padding": null,
      "right": null,
      "top": null,
      "visibility": null,
      "width": null
     }
    },
    "539b471846d4471e9fa4ce9992ef377a": {
     "model_module": "@jupyter-widgets/controls",
     "model_module_version": "1.5.0",
     "model_name": "DescriptionStyleModel",
     "state": {
      "_model_module": "@jupyter-widgets/controls",
      "_model_module_version": "1.5.0",
      "_model_name": "DescriptionStyleModel",
      "_view_count": null,
      "_view_module": "@jupyter-widgets/base",
      "_view_module_version": "1.2.0",
      "_view_name": "StyleView",
      "description_width": ""
     }
    },
    "59539504e422446681efe23b6e848eb2": {
     "model_module": "@jupyter-widgets/controls",
     "model_module_version": "1.5.0",
     "model_name": "HTMLModel",
     "state": {
      "_dom_classes": [],
      "_model_module": "@jupyter-widgets/controls",
      "_model_module_version": "1.5.0",
      "_model_name": "HTMLModel",
      "_view_count": null,
      "_view_module": "@jupyter-widgets/controls",
      "_view_module_version": "1.5.0",
      "_view_name": "HTMLView",
      "description": "",
      "description_tooltip": null,
      "layout": "IPY_MODEL_521aad5ac2864d519c391cbcc14c5969",
      "placeholder": "​",
      "style": "IPY_MODEL_d19382f214d7459c8d010a9fbe4ca584",
      "value": "Retrieving SummaryDoc documents: 100%"
     }
    },
    "5f121ccdfc4944ea8afa264df9bc0a50": {
     "model_module": "@jupyter-widgets/controls",
     "model_module_version": "1.5.0",
     "model_name": "HTMLModel",
     "state": {
      "_dom_classes": [],
      "_model_module": "@jupyter-widgets/controls",
      "_model_module_version": "1.5.0",
      "_model_name": "HTMLModel",
      "_view_count": null,
      "_view_module": "@jupyter-widgets/controls",
      "_view_module_version": "1.5.0",
      "_view_name": "HTMLView",
      "description": "",
      "description_tooltip": null,
      "layout": "IPY_MODEL_012b2e529c564223a1b2492c8e4d5412",
      "placeholder": "​",
      "style": "IPY_MODEL_46b9184974cd43f0a622f6bf4991fa59",
      "value": "Retrieving SummaryDoc documents: 100%"
     }
    },
    "63630cdd6bc144c4ae831f51ea65c3af": {
     "model_module": "@jupyter-widgets/controls",
     "model_module_version": "1.5.0",
     "model_name": "HTMLModel",
     "state": {
      "_dom_classes": [],
      "_model_module": "@jupyter-widgets/controls",
      "_model_module_version": "1.5.0",
      "_model_name": "HTMLModel",
      "_view_count": null,
      "_view_module": "@jupyter-widgets/controls",
      "_view_module_version": "1.5.0",
      "_view_name": "HTMLView",
      "description": "",
      "description_tooltip": null,
      "layout": "IPY_MODEL_2bb5ea02999d47fc8d07c7d24b2e65b3",
      "placeholder": "​",
      "style": "IPY_MODEL_19da398c5b2c4bb5aa08f3112380175d",
      "value": " 34243/34243 [00:32&lt;00:00, 1162.12it/s]"
     }
    },
    "6d52e381611645bab0f9375c648deb0f": {
     "model_module": "@jupyter-widgets/controls",
     "model_module_version": "1.5.0",
     "model_name": "FloatProgressModel",
     "state": {
      "_dom_classes": [],
      "_model_module": "@jupyter-widgets/controls",
      "_model_module_version": "1.5.0",
      "_model_name": "FloatProgressModel",
      "_view_count": null,
      "_view_module": "@jupyter-widgets/controls",
      "_view_module_version": "1.5.0",
      "_view_name": "ProgressView",
      "bar_style": "success",
      "description": "",
      "description_tooltip": null,
      "layout": "IPY_MODEL_7b23adb3e4e941fa97d091340f3f21b6",
      "max": 2,
      "min": 0,
      "orientation": "horizontal",
      "style": "IPY_MODEL_19210eeb81354717910870d9a8f4a746",
      "value": 2
     }
    },
    "7b23adb3e4e941fa97d091340f3f21b6": {
     "model_module": "@jupyter-widgets/base",
     "model_module_version": "1.2.0",
     "model_name": "LayoutModel",
     "state": {
      "_model_module": "@jupyter-widgets/base",
      "_model_module_version": "1.2.0",
      "_model_name": "LayoutModel",
      "_view_count": null,
      "_view_module": "@jupyter-widgets/base",
      "_view_module_version": "1.2.0",
      "_view_name": "LayoutView",
      "align_content": null,
      "align_items": null,
      "align_self": null,
      "border": null,
      "bottom": null,
      "display": null,
      "flex": null,
      "flex_flow": null,
      "grid_area": null,
      "grid_auto_columns": null,
      "grid_auto_flow": null,
      "grid_auto_rows": null,
      "grid_column": null,
      "grid_gap": null,
      "grid_row": null,
      "grid_template_areas": null,
      "grid_template_columns": null,
      "grid_template_rows": null,
      "height": null,
      "justify_content": null,
      "justify_items": null,
      "left": null,
      "margin": null,
      "max_height": null,
      "max_width": null,
      "min_height": null,
      "min_width": null,
      "object_fit": null,
      "object_position": null,
      "order": null,
      "overflow": null,
      "overflow_x": null,
      "overflow_y": null,
      "padding": null,
      "right": null,
      "top": null,
      "visibility": null,
      "width": null
     }
    },
    "81f54d5285894dcca88358e375667d16": {
     "model_module": "@jupyter-widgets/controls",
     "model_module_version": "1.5.0",
     "model_name": "HBoxModel",
     "state": {
      "_dom_classes": [],
      "_model_module": "@jupyter-widgets/controls",
      "_model_module_version": "1.5.0",
      "_model_name": "HBoxModel",
      "_view_count": null,
      "_view_module": "@jupyter-widgets/controls",
      "_view_module_version": "1.5.0",
      "_view_name": "HBoxView",
      "box_style": "",
      "children": [
       "IPY_MODEL_5f121ccdfc4944ea8afa264df9bc0a50",
       "IPY_MODEL_463ec167775a429e987ab616b392fbef",
       "IPY_MODEL_63630cdd6bc144c4ae831f51ea65c3af"
      ],
      "layout": "IPY_MODEL_f2433932847d40058ce5513588873486"
     }
    },
    "82105f5048054a03a2d9b270ca084c07": {
     "model_module": "@jupyter-widgets/controls",
     "model_module_version": "1.5.0",
     "model_name": "DescriptionStyleModel",
     "state": {
      "_model_module": "@jupyter-widgets/controls",
      "_model_module_version": "1.5.0",
      "_model_name": "DescriptionStyleModel",
      "_view_count": null,
      "_view_module": "@jupyter-widgets/base",
      "_view_module_version": "1.2.0",
      "_view_name": "StyleView",
      "description_width": ""
     }
    },
    "882fc224a5f143acac770c2addd18026": {
     "model_module": "@jupyter-widgets/controls",
     "model_module_version": "1.5.0",
     "model_name": "HTMLModel",
     "state": {
      "_dom_classes": [],
      "_model_module": "@jupyter-widgets/controls",
      "_model_module_version": "1.5.0",
      "_model_name": "HTMLModel",
      "_view_count": null,
      "_view_module": "@jupyter-widgets/controls",
      "_view_module_version": "1.5.0",
      "_view_name": "HTMLView",
      "description": "",
      "description_tooltip": null,
      "layout": "IPY_MODEL_89ea4b83f2ab464cb2cd4fc2a5280072",
      "placeholder": "​",
      "style": "IPY_MODEL_c7aac064987448198b95cc13dee8a548",
      "value": " 4437/4437 [00:03&lt;00:00, 1384.71it/s]"
     }
    },
    "89ea4b83f2ab464cb2cd4fc2a5280072": {
     "model_module": "@jupyter-widgets/base",
     "model_module_version": "1.2.0",
     "model_name": "LayoutModel",
     "state": {
      "_model_module": "@jupyter-widgets/base",
      "_model_module_version": "1.2.0",
      "_model_name": "LayoutModel",
      "_view_count": null,
      "_view_module": "@jupyter-widgets/base",
      "_view_module_version": "1.2.0",
      "_view_name": "LayoutView",
      "align_content": null,
      "align_items": null,
      "align_self": null,
      "border": null,
      "bottom": null,
      "display": null,
      "flex": null,
      "flex_flow": null,
      "grid_area": null,
      "grid_auto_columns": null,
      "grid_auto_flow": null,
      "grid_auto_rows": null,
      "grid_column": null,
      "grid_gap": null,
      "grid_row": null,
      "grid_template_areas": null,
      "grid_template_columns": null,
      "grid_template_rows": null,
      "height": null,
      "justify_content": null,
      "justify_items": null,
      "left": null,
      "margin": null,
      "max_height": null,
      "max_width": null,
      "min_height": null,
      "min_width": null,
      "object_fit": null,
      "object_position": null,
      "order": null,
      "overflow": null,
      "overflow_x": null,
      "overflow_y": null,
      "padding": null,
      "right": null,
      "top": null,
      "visibility": null,
      "width": null
     }
    },
    "92228f1970b94bf795bb5919bd49c751": {
     "model_module": "@jupyter-widgets/base",
     "model_module_version": "1.2.0",
     "model_name": "LayoutModel",
     "state": {
      "_model_module": "@jupyter-widgets/base",
      "_model_module_version": "1.2.0",
      "_model_name": "LayoutModel",
      "_view_count": null,
      "_view_module": "@jupyter-widgets/base",
      "_view_module_version": "1.2.0",
      "_view_name": "LayoutView",
      "align_content": null,
      "align_items": null,
      "align_self": null,
      "border": null,
      "bottom": null,
      "display": null,
      "flex": null,
      "flex_flow": null,
      "grid_area": null,
      "grid_auto_columns": null,
      "grid_auto_flow": null,
      "grid_auto_rows": null,
      "grid_column": null,
      "grid_gap": null,
      "grid_row": null,
      "grid_template_areas": null,
      "grid_template_columns": null,
      "grid_template_rows": null,
      "height": null,
      "justify_content": null,
      "justify_items": null,
      "left": null,
      "margin": null,
      "max_height": null,
      "max_width": null,
      "min_height": null,
      "min_width": null,
      "object_fit": null,
      "object_position": null,
      "order": null,
      "overflow": null,
      "overflow_x": null,
      "overflow_y": null,
      "padding": null,
      "right": null,
      "top": null,
      "visibility": null,
      "width": null
     }
    },
    "974df9cd43cb4f98815a601fbe1a4cf0": {
     "model_module": "@jupyter-widgets/base",
     "model_module_version": "1.2.0",
     "model_name": "LayoutModel",
     "state": {
      "_model_module": "@jupyter-widgets/base",
      "_model_module_version": "1.2.0",
      "_model_name": "LayoutModel",
      "_view_count": null,
      "_view_module": "@jupyter-widgets/base",
      "_view_module_version": "1.2.0",
      "_view_name": "LayoutView",
      "align_content": null,
      "align_items": null,
      "align_self": null,
      "border": null,
      "bottom": null,
      "display": null,
      "flex": null,
      "flex_flow": null,
      "grid_area": null,
      "grid_auto_columns": null,
      "grid_auto_flow": null,
      "grid_auto_rows": null,
      "grid_column": null,
      "grid_gap": null,
      "grid_row": null,
      "grid_template_areas": null,
      "grid_template_columns": null,
      "grid_template_rows": null,
      "height": null,
      "justify_content": null,
      "justify_items": null,
      "left": null,
      "margin": null,
      "max_height": null,
      "max_width": null,
      "min_height": null,
      "min_width": null,
      "object_fit": null,
      "object_position": null,
      "order": null,
      "overflow": null,
      "overflow_x": null,
      "overflow_y": null,
      "padding": null,
      "right": null,
      "top": null,
      "visibility": null,
      "width": null
     }
    },
    "9c2a732ff4dd44a9ad017bbec1f43b80": {
     "model_module": "@jupyter-widgets/controls",
     "model_module_version": "1.5.0",
     "model_name": "HTMLModel",
     "state": {
      "_dom_classes": [],
      "_model_module": "@jupyter-widgets/controls",
      "_model_module_version": "1.5.0",
      "_model_name": "HTMLModel",
      "_view_count": null,
      "_view_module": "@jupyter-widgets/controls",
      "_view_module_version": "1.5.0",
      "_view_name": "HTMLView",
      "description": "",
      "description_tooltip": null,
      "layout": "IPY_MODEL_efff1771eb2e4f1caa66f79c710ce0cb",
      "placeholder": "​",
      "style": "IPY_MODEL_82105f5048054a03a2d9b270ca084c07",
      "value": "Retrieving SummaryDoc documents: 100%"
     }
    },
    "a302e21f48824e5fbfa7ac28a0a9a17e": {
     "model_module": "@jupyter-widgets/controls",
     "model_module_version": "1.5.0",
     "model_name": "HBoxModel",
     "state": {
      "_dom_classes": [],
      "_model_module": "@jupyter-widgets/controls",
      "_model_module_version": "1.5.0",
      "_model_name": "HBoxModel",
      "_view_count": null,
      "_view_module": "@jupyter-widgets/controls",
      "_view_module_version": "1.5.0",
      "_view_name": "HBoxView",
      "box_style": "",
      "children": [
       "IPY_MODEL_9c2a732ff4dd44a9ad017bbec1f43b80",
       "IPY_MODEL_d0d1d1a34b954d90bf222529f2760639",
       "IPY_MODEL_882fc224a5f143acac770c2addd18026"
      ],
      "layout": "IPY_MODEL_92228f1970b94bf795bb5919bd49c751"
     }
    },
    "ab95afc367c742e58639c8c7e8428303": {
     "model_module": "@jupyter-widgets/controls",
     "model_module_version": "1.5.0",
     "model_name": "HBoxModel",
     "state": {
      "_dom_classes": [],
      "_model_module": "@jupyter-widgets/controls",
      "_model_module_version": "1.5.0",
      "_model_name": "HBoxModel",
      "_view_count": null,
      "_view_module": "@jupyter-widgets/controls",
      "_view_module_version": "1.5.0",
      "_view_name": "HBoxView",
      "box_style": "",
      "children": [
       "IPY_MODEL_59539504e422446681efe23b6e848eb2",
       "IPY_MODEL_6d52e381611645bab0f9375c648deb0f",
       "IPY_MODEL_44ed84d4719a4f2299d03bedebf270e6"
      ],
      "layout": "IPY_MODEL_974df9cd43cb4f98815a601fbe1a4cf0"
     }
    },
    "ae6256b8cc0f489f927bc534250b88d8": {
     "model_module": "@jupyter-widgets/base",
     "model_module_version": "1.2.0",
     "model_name": "LayoutModel",
     "state": {
      "_model_module": "@jupyter-widgets/base",
      "_model_module_version": "1.2.0",
      "_model_name": "LayoutModel",
      "_view_count": null,
      "_view_module": "@jupyter-widgets/base",
      "_view_module_version": "1.2.0",
      "_view_name": "LayoutView",
      "align_content": null,
      "align_items": null,
      "align_self": null,
      "border": null,
      "bottom": null,
      "display": null,
      "flex": null,
      "flex_flow": null,
      "grid_area": null,
      "grid_auto_columns": null,
      "grid_auto_flow": null,
      "grid_auto_rows": null,
      "grid_column": null,
      "grid_gap": null,
      "grid_row": null,
      "grid_template_areas": null,
      "grid_template_columns": null,
      "grid_template_rows": null,
      "height": null,
      "justify_content": null,
      "justify_items": null,
      "left": null,
      "margin": null,
      "max_height": null,
      "max_width": null,
      "min_height": null,
      "min_width": null,
      "object_fit": null,
      "object_position": null,
      "order": null,
      "overflow": null,
      "overflow_x": null,
      "overflow_y": null,
      "padding": null,
      "right": null,
      "top": null,
      "visibility": null,
      "width": null
     }
    },
    "c6fb4f4887304439826b8c3c4402b62a": {
     "model_module": "@jupyter-widgets/controls",
     "model_module_version": "1.5.0",
     "model_name": "ProgressStyleModel",
     "state": {
      "_model_module": "@jupyter-widgets/controls",
      "_model_module_version": "1.5.0",
      "_model_name": "ProgressStyleModel",
      "_view_count": null,
      "_view_module": "@jupyter-widgets/base",
      "_view_module_version": "1.2.0",
      "_view_name": "StyleView",
      "bar_color": null,
      "description_width": ""
     }
    },
    "c7aac064987448198b95cc13dee8a548": {
     "model_module": "@jupyter-widgets/controls",
     "model_module_version": "1.5.0",
     "model_name": "DescriptionStyleModel",
     "state": {
      "_model_module": "@jupyter-widgets/controls",
      "_model_module_version": "1.5.0",
      "_model_name": "DescriptionStyleModel",
      "_view_count": null,
      "_view_module": "@jupyter-widgets/base",
      "_view_module_version": "1.2.0",
      "_view_name": "StyleView",
      "description_width": ""
     }
    },
    "c9a9de9ebe0044b9bbfa0a8c52ab81ec": {
     "model_module": "@jupyter-widgets/base",
     "model_module_version": "1.2.0",
     "model_name": "LayoutModel",
     "state": {
      "_model_module": "@jupyter-widgets/base",
      "_model_module_version": "1.2.0",
      "_model_name": "LayoutModel",
      "_view_count": null,
      "_view_module": "@jupyter-widgets/base",
      "_view_module_version": "1.2.0",
      "_view_name": "LayoutView",
      "align_content": null,
      "align_items": null,
      "align_self": null,
      "border": null,
      "bottom": null,
      "display": null,
      "flex": null,
      "flex_flow": null,
      "grid_area": null,
      "grid_auto_columns": null,
      "grid_auto_flow": null,
      "grid_auto_rows": null,
      "grid_column": null,
      "grid_gap": null,
      "grid_row": null,
      "grid_template_areas": null,
      "grid_template_columns": null,
      "grid_template_rows": null,
      "height": null,
      "justify_content": null,
      "justify_items": null,
      "left": null,
      "margin": null,
      "max_height": null,
      "max_width": null,
      "min_height": null,
      "min_width": null,
      "object_fit": null,
      "object_position": null,
      "order": null,
      "overflow": null,
      "overflow_x": null,
      "overflow_y": null,
      "padding": null,
      "right": null,
      "top": null,
      "visibility": null,
      "width": null
     }
    },
    "d0d1d1a34b954d90bf222529f2760639": {
     "model_module": "@jupyter-widgets/controls",
     "model_module_version": "1.5.0",
     "model_name": "FloatProgressModel",
     "state": {
      "_dom_classes": [],
      "_model_module": "@jupyter-widgets/controls",
      "_model_module_version": "1.5.0",
      "_model_name": "FloatProgressModel",
      "_view_count": null,
      "_view_module": "@jupyter-widgets/controls",
      "_view_module_version": "1.5.0",
      "_view_name": "ProgressView",
      "bar_style": "success",
      "description": "",
      "description_tooltip": null,
      "layout": "IPY_MODEL_ae6256b8cc0f489f927bc534250b88d8",
      "max": 4437,
      "min": 0,
      "orientation": "horizontal",
      "style": "IPY_MODEL_39c496c90ceb423996dca18f9133e352",
      "value": 4437
     }
    },
    "d19382f214d7459c8d010a9fbe4ca584": {
     "model_module": "@jupyter-widgets/controls",
     "model_module_version": "1.5.0",
     "model_name": "DescriptionStyleModel",
     "state": {
      "_model_module": "@jupyter-widgets/controls",
      "_model_module_version": "1.5.0",
      "_model_name": "DescriptionStyleModel",
      "_view_count": null,
      "_view_module": "@jupyter-widgets/base",
      "_view_module_version": "1.2.0",
      "_view_name": "StyleView",
      "description_width": ""
     }
    },
    "efff1771eb2e4f1caa66f79c710ce0cb": {
     "model_module": "@jupyter-widgets/base",
     "model_module_version": "1.2.0",
     "model_name": "LayoutModel",
     "state": {
      "_model_module": "@jupyter-widgets/base",
      "_model_module_version": "1.2.0",
      "_model_name": "LayoutModel",
      "_view_count": null,
      "_view_module": "@jupyter-widgets/base",
      "_view_module_version": "1.2.0",
      "_view_name": "LayoutView",
      "align_content": null,
      "align_items": null,
      "align_self": null,
      "border": null,
      "bottom": null,
      "display": null,
      "flex": null,
      "flex_flow": null,
      "grid_area": null,
      "grid_auto_columns": null,
      "grid_auto_flow": null,
      "grid_auto_rows": null,
      "grid_column": null,
      "grid_gap": null,
      "grid_row": null,
      "grid_template_areas": null,
      "grid_template_columns": null,
      "grid_template_rows": null,
      "height": null,
      "justify_content": null,
      "justify_items": null,
      "left": null,
      "margin": null,
      "max_height": null,
      "max_width": null,
      "min_height": null,
      "min_width": null,
      "object_fit": null,
      "object_position": null,
      "order": null,
      "overflow": null,
      "overflow_x": null,
      "overflow_y": null,
      "padding": null,
      "right": null,
      "top": null,
      "visibility": null,
      "width": null
     }
    },
    "f2433932847d40058ce5513588873486": {
     "model_module": "@jupyter-widgets/base",
     "model_module_version": "1.2.0",
     "model_name": "LayoutModel",
     "state": {
      "_model_module": "@jupyter-widgets/base",
      "_model_module_version": "1.2.0",
      "_model_name": "LayoutModel",
      "_view_count": null,
      "_view_module": "@jupyter-widgets/base",
      "_view_module_version": "1.2.0",
      "_view_name": "LayoutView",
      "align_content": null,
      "align_items": null,
      "align_self": null,
      "border": null,
      "bottom": null,
      "display": null,
      "flex": null,
      "flex_flow": null,
      "grid_area": null,
      "grid_auto_columns": null,
      "grid_auto_flow": null,
      "grid_auto_rows": null,
      "grid_column": null,
      "grid_gap": null,
      "grid_row": null,
      "grid_template_areas": null,
      "grid_template_columns": null,
      "grid_template_rows": null,
      "height": null,
      "justify_content": null,
      "justify_items": null,
      "left": null,
      "margin": null,
      "max_height": null,
      "max_width": null,
      "min_height": null,
      "min_width": null,
      "object_fit": null,
      "object_position": null,
      "order": null,
      "overflow": null,
      "overflow_x": null,
      "overflow_y": null,
      "padding": null,
      "right": null,
      "top": null,
      "visibility": null,
      "width": null
     }
    }
   }
  }
 },
 "nbformat": 4,
 "nbformat_minor": 4
}
