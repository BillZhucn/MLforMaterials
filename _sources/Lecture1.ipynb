{
 "cells": [
  {
   "cell_type": "markdown",
   "metadata": {
    "id": "uDQYZDh0ciGP"
   },
   "source": [
    "# Introduction"
   ]
  },
  {
   "cell_type": "markdown",
   "metadata": {
    "id": "4qYrIcVKciGR"
   },
   "source": [
    "```{admonition} Ada Lovelace\n",
    ":class: tip\n",
    "The more I study, the more insatiable do I feel my genius for it to be.\n",
    "```"
   ]
  },
  {
   "cell_type": "markdown",
   "metadata": {
    "id": "qlQmXeW3ciGS"
   },
   "source": [
    "<iframe class=\"speakerdeck-iframe\" frameborder=\"0\" src=\"https://speakerdeck.com/player/3be55cc221ec446eb79c9b2a77fe695e\" title=\"Machine Learning for Materials (Lecture 1)\" allowfullscreen=\"true\" style=\"border: 0px; background-clip: padding-box; background-color: rgba(0, 0, 0, 0.1); margin: 0px; padding: 0px; border-radius: 6px; box-shadow: rgba(0, 0, 0, 0.2) 0px 5px 40px; width: 100%; height: auto; aspect-ratio: 560 / 420;\" data-ratio=\"1.3333333333333333\"></iframe>"
   ]
  },
  {
   "cell_type": "markdown",
   "metadata": {
    "id": "aB6tYmdQciGS",
    "tags": []
   },
   "source": [
    "## 👋 Getting started\n",
    "\n",
    "Welcome to our first practical session! \n",
    "\n",
    "This is a Jupyter notebook loaded inside a Jupyter book. They are part of [Project Jupyter](https://jupyter.org), a suite of open source tools. A Jupyter notebook also allows you to run and easily share computer code. This combination makes Jupyter notebooks a useful tool for analysing data.\n",
    "\n",
    "Unlike spreadsheets or combinations of separate data analysis codes, you can collect desciptions and notes for individual experiments, links to the raw data collected, the computer code that performs any necessary data analysis, and the final figures generated with these data, ready for use in a report or published paper.\n",
    "\n",
    "There are a few components to be aware of:\n",
    "\n",
    "### Python\n",
    "A working knowledge of the [Python](https://www.python.org) programming language is assumed for this course. If you are rusty, Chapters 1-4 of [Datacamp](https://www.datacamp.com/courses/intro-to-python-for-data-science) cover the base concepts, as do many other online resources including Imperial's [Introduction to Python](https://www.imperial.ac.uk/students/academic-support/graduate-school/students/doctoral/professional-development/research-computing-data-science/courses/intro-to-python) course.\n",
    "\n",
    "### Markdown\n",
    "Markdown is a markup language that allows easy formatting of text. It is widely used for creating and formatting online content. It easier to read and write than html. A guide to the syntax can be found over [here](https://www.markdownguide.org/basic-syntax/).\n",
    "\n",
    "```\n",
    "# Heading\n",
    "## Smaller heading\n",
    "### Even smaller heading\n",
    "```\n",
    "\n",
    "### Github\n",
    "[GitHub](https://github.com) is a platform for writing and sharing code. There are many materials science projects hosted there, which enables researchers from around the world to contribute to their development. These notebooks are hosted on Github too. If you find an error, you can raise an [issue](https://github.com/aronwalsh/MLforMaterials/issues) or even better fix it yourself with a [pull request](https://docs.github.com/en/pull-requests/collaborating-with-pull-requests/proposing-changes-to-your-work-with-pull-requests/about-pull-requests). \n",
    "\n",
    "### Live coding\n",
    "The weekly notebooks are designed to be run online directly in your browser. You can activate the server by clicking the rocket icon on the top right and selecting `Live Code`. There is an option to open in [Binder](https://mybinder.org) or [Google Colab](https://colab.research.google.com), which you may prefer if you are an advanced user, but the formatting won't be as nice. Those services will be used for the research challenge later in the course.  You can opt to install Python on your own computer with [Anaconda](https://www.anaconda.com/products/distribution) and run the notebooks locally, but we do not offer support if things go wrong."
   ]
  },
  {
   "cell_type": "markdown",
   "metadata": {
    "id": "4l6E3oaQciGT"
   },
   "source": [
    "## Analyse data with code\n",
    "\n",
    "By programming a series of instructions, researchers can consistently obtain the same results from a given dataset. This approach enables us to share datasets and code, allowing other scientists to review, repeat and reuse the analysis.  The transparency and reproducibility of code-based analysis enhances research integrity and credibility, while minimising errors. It also enables efficient handling of large datasets and complex calculations, accelerating the exploration of different techniques."
   ]
  },
  {
   "cell_type": "markdown",
   "metadata": {
    "id": "95tjL6dJciGU"
   },
   "source": [
    "### Running code\n",
    "\n",
    "Different programming languages can be used in Jupyter notebooks. We will be using Python 3. The large scientific community for Python means that well-developed resources exist for data processing and specific prewritten tools for manipulating and plotting data.\n",
    "\n",
    "Any code typed into a code cell can be run (executed) by pressing the `run` button. You can also run the selected code block using `Shift-Enter` combination on your keyboard."
   ]
  },
  {
   "cell_type": "code",
   "execution_count": null,
   "metadata": {
    "colab": {
     "base_uri": "https://localhost:8080/"
    },
    "collapsed": false,
    "id": "wCimyGVFciGU",
    "jupyter": {
     "outputs_hidden": false
    },
    "outputId": "adafc87d-2f8a-4a31-d599-f4f5b05a6cbc"
   },
   "outputs": [],
   "source": [
    "2+3 # run this cell"
   ]
  },
  {
   "cell_type": "code",
   "execution_count": null,
   "metadata": {
    "colab": {
     "base_uri": "https://localhost:8080/"
    },
    "collapsed": false,
    "id": "2VOKhE8pciGW",
    "jupyter": {
     "outputs_hidden": false
    },
    "outputId": "a93c141e-dfb3-436d-fb94-8ccb4218fa93"
   },
   "outputs": [],
   "source": [
    "print(\"Beware of 妖精\") # anything after '#' is a comment and ignored"
   ]
  },
  {
   "cell_type": "code",
   "execution_count": null,
   "metadata": {
    "colab": {
     "base_uri": "https://localhost:8080/"
    },
    "collapsed": false,
    "id": "iRqw3mAwciGW",
    "jupyter": {
     "outputs_hidden": false
    },
    "outputId": "9be82ae7-cbfb-45a4-886a-103689fbc308"
   },
   "outputs": [],
   "source": [
    "12*2.40*3737*12 # you get the idea"
   ]
  },
  {
   "cell_type": "code",
   "execution_count": null,
   "metadata": {
    "colab": {
     "base_uri": "https://localhost:8080/"
    },
    "collapsed": false,
    "id": "unZ26LEociGW",
    "jupyter": {
     "outputs_hidden": false
    },
    "outputId": "8aa5eed1-969c-46c3-f1e6-abb5c4fa66a1"
   },
   "outputs": [],
   "source": [
    "2**1000 - 2 # a big number"
   ]
  },
  {
   "cell_type": "code",
   "execution_count": null,
   "metadata": {
    "colab": {
     "base_uri": "https://localhost:8080/"
    },
    "collapsed": false,
    "id": "MyM32PMxciGW",
    "jupyter": {
     "outputs_hidden": false
    },
    "outputId": "12d90531-f3d1-4e69-b640-e666c6b88d99"
   },
   "outputs": [],
   "source": [
    "import math as m # import a math module\n",
    "m.pi"
   ]
  },
  {
   "cell_type": "code",
   "execution_count": null,
   "metadata": {
    "colab": {
     "base_uri": "https://localhost:8080/"
    },
    "collapsed": false,
    "id": "P574cgsSciGX",
    "jupyter": {
     "outputs_hidden": false
    },
    "outputId": "313acdec-892e-4024-cc2d-14b6d4953c91"
   },
   "outputs": [],
   "source": [
    "20*m.atan(1/7)+8*m.atan(3/79) # Euler's approximation"
   ]
  },
  {
   "cell_type": "markdown",
   "metadata": {
    "id": "5B698R2pciGX"
   },
   "source": [
    "### Plotting with Matplotlib"
   ]
  },
  {
   "cell_type": "markdown",
   "metadata": {},
   "source": [
    "Let's install the package [Matplotlib](https://matplotlib.org), which we will be using a lot for data visualisation. You need a little patience when you install a package as the server is downloading the latest version including any necessary dependencies."
   ]
  },
  {
   "cell_type": "code",
   "execution_count": null,
   "metadata": {
    "colab": {
     "base_uri": "https://localhost:8080/",
     "height": 447
    },
    "collapsed": false,
    "id": "oyBEOTXociGX",
    "jupyter": {
     "outputs_hidden": false
    },
    "outputId": "9b601898-39c1-460a-a4c1-6c8c4f96cb4e",
    "tags": []
   },
   "outputs": [],
   "source": [
    "# Imports\n",
    "import matplotlib.pyplot as plt\n",
    "import numpy as np\n",
    "%matplotlib inline\n",
    "\n",
    "x = np.arange(0, 10, 0.001) # x = 0 to 10 in steps of 0.1\n",
    "y = np.sin(x*x) # define your function\n",
    "plt.plot(,y) # plot x against y"
   ]
  },
  {
   "cell_type": "markdown",
   "metadata": {
    "id": "lxLc8V4tb5zh"
   },
   "source": [
    "<details>\n",
    "<summary> Code hint </summary>\n",
    "You need to plot x vs y. Fix the plot command to (x,y).\n",
    "</details>"
   ]
  },
  {
   "cell_type": "markdown",
   "metadata": {
    "id": "Z8_nYqMH2MW9"
   },
   "source": [
    "### Using a DataFrame\n",
    "\n",
    "Data frames are great tools to store, access, and modify large sets of data. In this course, we'll be using a lot of [Pandas](https://pandas.pydata.org) to process data for machine learning."
   ]
  },
  {
   "cell_type": "code",
   "execution_count": null,
   "metadata": {
    "colab": {
     "base_uri": "https://localhost:8080/"
    },
    "id": "UamDrzLn2LoS",
    "outputId": "668a7fce-c15e-4977-9639-3456226d5581",
    "tags": []
   },
   "outputs": [],
   "source": [
    "import pandas as pd\n",
    "\n",
    "df = pd.DataFrame() #This instantiates an empty Pandas dataframe\n",
    "\n",
    "data = {\n",
    "    \"Element\" : ['C', 'O', 'Fe', 'Mg', 'Xe'],\n",
    "    \"Atomic Number\" : [6, 8, 26, 12, 54],\n",
    "    \"Atomic Mass\" : [12, 16, 56, 24, 131]\n",
    "}\n",
    "\n",
    "#Lets try loading data into dataframe df\n",
    "df = pd.DataFrame(data)\n",
    "\n",
    "#We can make the 'Element' column the index of this DataFrame using the set_index function\n",
    "df = df.set_index(\"Element\")\n",
    "\n",
    "#Printing the values in the 'Atomic Number' column\n",
    "print(df[\"Atomic \"])"
   ]
  },
  {
   "cell_type": "markdown",
   "metadata": {
    "tags": []
   },
   "source": [
    "<details>\n",
    "<summary> Code hint </summary>\n",
    "Check you are printing the correct column name. Try out some of the other options.\n",
    "</details>"
   ]
  },
  {
   "cell_type": "code",
   "execution_count": null,
   "metadata": {
    "colab": {
     "base_uri": "https://localhost:8080/"
    },
    "id": "gcUlJMzWb5zi",
    "outputId": "a34b575b-a911-4f85-d158-35d0be47c985",
    "tags": []
   },
   "outputs": [],
   "source": [
    "# Add a new column\n",
    "df[\"Band Gap (eV)\"] = [5.47, 5.14, 0.12, 4.34, 7.01]\n",
    "\n",
    "print(df[\"Band Gap (eV)\"])"
   ]
  },
  {
   "cell_type": "code",
   "execution_count": null,
   "metadata": {
    "colab": {
     "base_uri": "https://localhost:8080/"
    },
    "id": "HxPmwuvub5zi",
    "outputId": "187407d3-254b-4df4-ef31-0205aaf0f851",
    "tags": []
   },
   "outputs": [],
   "source": [
    "# Print a row from the DataFrame \n",
    "\n",
    "# The df.loc[index] function to print the entry \"C\"\n",
    "print(df.loc[''])\n",
    "\n",
    "print('-----')\n",
    "\n",
    "# The df.iloc[index] function to print the first entry (counting starts at 0...)\n",
    "print(df.iloc[0])"
   ]
  },
  {
   "cell_type": "markdown",
   "metadata": {
    "id": "LsKd-p8Ob5zi"
   },
   "source": [
    "<details>\n",
    "<summary> Code hint </summary>\n",
    "You need to tell `df.loc` what to look for. Put an element name in between the quotes.\n",
    "</details>"
   ]
  },
  {
   "cell_type": "markdown",
   "metadata": {
    "id": "Ug7HnFwUciGX"
   },
   "source": [
    "### Write an equation"
   ]
  },
  {
   "cell_type": "markdown",
   "metadata": {
    "id": "tlakAjCMciGX"
   },
   "source": [
    "This is written in LaTeX format. It's easy to learn and useful for complex expressions.\n",
    "\n",
    "`$-\\dfrac{\\hslash^2}{2m} \\, \\dfrac{\\partial^2 \\psi}{\\partial x^2}$`\n",
    "\n",
    "which renders as\n",
    "\n",
    "$-\\dfrac{\\hslash^2}{2m} \\, \\dfrac{\\partial^2 \\psi}{\\partial x^2}$"
   ]
  },
  {
   "cell_type": "markdown",
   "metadata": {
    "id": "6LT9mCDQciGX"
   },
   "source": [
    "### Link an image"
   ]
  },
  {
   "cell_type": "markdown",
   "metadata": {
    "id": "oteHuO9DciGY"
   },
   "source": [
    "The syntax used here is Markdown, which can be used in notebooks and is also popular on github for documentation and even a fast way to take notes during lectures.\n",
    "\n",
    "`![](https://media.giphy.com/media/cxk3z6nMhpf7a/giphy.gif)`\n",
    "\n",
    "which renders as\n",
    "\n",
    "![](https://media.giphy.com/media/cxk3z6nMhpf7a/giphy.gif)"
   ]
  },
  {
   "cell_type": "markdown",
   "metadata": {
    "id": "8uepYP7rciGY"
   },
   "source": [
    "## Computational science\n",
    "\n",
    "### Thermally-actived diffusion\n",
    "\n",
    "Ion transport in crystals is a fundamental process that underpins various technological applications, from batteries to semiconductor devices. Understanding the kinetics of ion movement within and between materials is crucial for optimising device performance.\n",
    "\n",
    "Like many chemical processes, solid-state diffusion transport is thermally activated. We can describe ion motion in a crystal using a familiar Arrhenius relationship.\n",
    "\n",
    "The diffusion coefficient of a species is given by $D_{ion} = D_0 \\cdot e^{-(\\frac{\\Delta E_a}{k_BT})}$, where:\n",
    "- $D_{ion}$ is the diffusion coefficient for a particular ion,\n",
    "- $D_0$ is the temperature-independent prefactor (containing an attempt frequency),\n",
    "- $\\Delta E_a$ is the activation energy for diffusion,\n",
    "- $k_B$ is the Boltzmann constant, and\n",
    "- $T$ is the temperature.\n",
    "\n",
    "Let's write a function for it, which will take advantage of the wonderful [NumPy](https://numpy.org) package. "
   ]
  },
  {
   "cell_type": "code",
   "execution_count": null,
   "metadata": {
    "id": "LLO0MXBuciGY",
    "tags": []
   },
   "outputs": [],
   "source": [
    "import numpy as np\n",
    "\n",
    "# Setting the constants\n",
    "k_B = 8.617333262145e-5  # Boltzmann constant in eV/K\n",
    "D0 = 1 # Pre-exponential term\n",
    "\n",
    "# Arrhenius equation\n",
    "def arrhenius(activation_energy, temperature):\n",
    "    return D0 * np.exp(-activation_energy / (k_B * temperature))"
   ]
  },
  {
   "cell_type": "markdown",
   "metadata": {
    "id": "R8aKxKtuciGY"
   },
   "source": [
    "This function takes `activation_enery` (eV) and `temperature` (K) as inputs and returns the corresponding diffusion coefficient. Recall that the units of the exponential term have to cancel out, so $D_{ion}$ takes the same units as $D_0$. Now let's use it:"
   ]
  },
  {
   "cell_type": "code",
   "execution_count": null,
   "metadata": {
    "colab": {
     "base_uri": "https://localhost:8080/"
    },
    "id": "gO22e47tciGY",
    "outputId": "a2a61bb1-0b0e-4966-c7d3-7638f9abbc3a",
    "tags": []
   },
   "outputs": [],
   "source": [
    "arrhenius(0.12, 1000) # Calls the function for Ea = 0.12 eV; T = 1000 K"
   ]
  },
  {
   "cell_type": "markdown",
   "metadata": {
    "id": "7rMW0e9bciGY"
   },
   "source": [
    "This value tells us the likelihood that each attempt has of overcoming the thermodynamic barrier for ionic diffusion. Decrease the temperature to 100 K and see the difference.\n",
    "\n",
    "Now let's take advantage of the function to make a plot. We will use the numpy function `linspace`, which is documented over [here](https://numpy.org/doc/stable/reference/generated/numpy.linspace.html). It simply generates 100 numbers evenly spaced between 100 and 1000 to represent the temperature range."
   ]
  },
  {
   "cell_type": "code",
   "execution_count": null,
   "metadata": {
    "colab": {
     "base_uri": "https://localhost:8080/",
     "height": 472
    },
    "id": "yvqv4W2YciGY",
    "outputId": "2be0b1ff-7ba0-4147-847d-1d357a69d28c",
    "tags": []
   },
   "outputs": [],
   "source": [
    "import matplotlib.pyplot as plt\n",
    "\n",
    "# Pre-exponential term in cm2/s\n",
    "D0 = 0.5\n",
    "\n",
    "# Temperature range in K\n",
    "T = np.linspace(100, 1000, 100)\n",
    "\n",
    "# Example activation energy in eV\n",
    "activation_energy = 0.83\n",
    "\n",
    "# Calculate rates\n",
    "rates = arrhenius(activation_energy, T)\n",
    "\n",
    "# Plotting\n",
    "plt.figure()\n",
    "plt.plot(T, rates, label=f'Activation Energy = {activation_energy} eV')\n",
    "plt.xlabel('Temperature (K)')\n",
    "plt.ylabel('$D_{ion}$ (cm$^2$/s)')  # Adding units to y-axis\n",
    "plt.title('Thermally activated transport')\n",
    "plt.legend()\n",
    "plt.grid(True)\n",
    "plot.show()"
   ]
  },
  {
   "cell_type": "markdown",
   "metadata": {
    "id": "kZ4t29owb5zj"
   },
   "source": [
    "<details>\n",
    "<summary> Code hint </summary>\n",
    "Check that all of the plotting statements are correctly called `plt`.\n",
    "</details>"
   ]
  },
  {
   "cell_type": "code",
   "execution_count": null,
   "metadata": {
    "colab": {
     "base_uri": "https://localhost:8080/",
     "height": 472
    },
    "id": "WkWCrwDsb5zj",
    "outputId": "bfb7b43a-8305-4bc9-d118-9070dafa79da",
    "tags": []
   },
   "outputs": [],
   "source": [
    "# Pre-exponential term in cm2/s\n",
    "D0 = 0.5\n",
    "\n",
    "# Range of activation energies in eV\n",
    "activation_energies = np.linspace(0.1, 1.0, 0) # Range from 0.1 to 1.0 eV in n steps\n",
    "\n",
    "# Calculate rates and plot curves\n",
    "plt.figure()\n",
    "for activation_energy in activation_energies:\n",
    "    rates = arrhenius(activation_energy, T)\n",
    "    plt.plot(T, rates, label=f'{activation_energy:.1f} eV')\n",
    "\n",
    "plt.xlabel('Temperature (K)')\n",
    "plt.ylabel('$D_{ion}$ (cm$^2$/s)')  # Adding units to y-axis\n",
    "plt.title('Diffusion with varying activation energies')\n",
    "plt.legend()\n",
    "plt.grid(True)\n",
    "plt.show()"
   ]
  },
  {
   "cell_type": "markdown",
   "metadata": {
    "id": "8DvhjGpCb5zk"
   },
   "source": [
    "<details>\n",
    "<summary> Code hint </summary>\n",
    "'np.linspace' requires three arguments (start, stop, number of points). 0 points won't work. Try changing it to 10.\n",
    "</details>"
   ]
  },
  {
   "cell_type": "markdown",
   "metadata": {
    "id": "uWlaJMBQciGZ"
   },
   "source": [
    "To better visualise the trends, we can make an Arrhenius plot by plotting the logarithm of D versus the inverse temperature, 1/T.  We use 1000/T to give a nicer range on the $x$-axis."
   ]
  },
  {
   "cell_type": "code",
   "execution_count": null,
   "metadata": {
    "colab": {
     "base_uri": "https://localhost:8080/",
     "height": 472
    },
    "id": "7Wgi_g2wciGZ",
    "outputId": "5c4a5118-46a1-4f58-a282-e8e1945e7e27",
    "tags": []
   },
   "outputs": [],
   "source": [
    "# Plotting ln(R) vs 1000/T\n",
    "plt.figure()\n",
    "for activation_energy in activation_energies:\n",
    "    rates = arrhenius(activation_energy, T)\n",
    "    plt.plot(1000/T, np.log(rates), label=f'{activation_energy:.1f} eV')\n",
    "\n",
    "plt.xlabel('1000 / Temperature (1/K)')\n",
    "plt.ylabel('ln($D_{ion}$)')\n",
    "plt.title('Arrhenius plot')\n",
    "plt.legend()\n",
    "plt.grid(True)\n",
    "plt.show()"
   ]
  },
  {
   "cell_type": "markdown",
   "metadata": {
    "id": "GzN2cRN0ciGZ"
   },
   "source": [
    "The last technique to picked up in this class is data fitting. Later in the course, this will be expanded to more complex functions in high dimensions, but we'll start with linear regression in just two.  There is no need to code this by hand as we can use a [function](https://scikit-learn.org/stable/modules/generated/sklearn.linear_model.LinearRegression.html) in the machine learning package [scikit-learn](https://scikit-learn.org). The real power of Python is the quality and quantity of available libraries such as this one."
   ]
  },
  {
   "cell_type": "code",
   "execution_count": null,
   "metadata": {
    "colab": {
     "base_uri": "https://localhost:8080/"
    },
    "id": "8eOomWxMb5zk",
    "outputId": "19ccf4a0-0ba8-4b8f-a55c-b1c035c25cef",
    "tags": []
   },
   "outputs": [],
   "source": [
    "import numpy as np\n",
    "import pandas as pd\n",
    "\n",
    "num_points =  # Number of data points to generate\n",
    "\n",
    "# Generate random x-y data points\n",
    "x_data = np.random.uniform(0, 10, num_points)  # Adjust the range as needed\n",
    "y_data = np.random.uniform(0, 10, num_points)\n",
    "\n",
    "# Create a Pandas DataFrame\n",
    "data = {'X': x_data, 'Y': y_data}\n",
    "df = pd.DataFrame(data)\n",
    "\n",
    "# Print the DataFrame\n",
    "print(df)"
   ]
  },
  {
   "cell_type": "markdown",
   "metadata": {
    "id": "Ewl5y52Hb5zk"
   },
   "source": [
    "<details>\n",
    "<summary> Code hint </summary>\n",
    "Again you need to choose the number of points. 50 should be fine, but you have the power to decide.\n",
    "</details>"
   ]
  },
  {
   "cell_type": "code",
   "execution_count": null,
   "metadata": {
    "colab": {
     "base_uri": "https://localhost:8080/",
     "height": 472
    },
    "id": "eWwUdHjGciGZ",
    "outputId": "280b5dfe-b578-421d-fe5c-7d84b0ec6ca2",
    "tags": []
   },
   "outputs": [],
   "source": [
    "from sklearn.linear_model import LinearRegression\n",
    "from sklearn.metrics import r2_score, mean_squared_error\n",
    "\n",
    "# Perform linear regression\n",
    "X = df['X'].values.reshape(-1, 1)  # Reshape X for compatibility with sklearn\n",
    "y = df['Y'].values\n",
    "model = LinearRegression().fit(X, y)\n",
    "y_pred = model.predict(X)\n",
    "\n",
    "# Calculate error bars\n",
    "residuals = y - y_pred\n",
    "error_bars = np.abs(residuals)\n",
    "\n",
    "# Plot the linear regression line\n",
    "plt.errorbar(df['X'], df['Y'], yerr=error_bars, fmt='o', color='blue', label='Data with Errors')\n",
    "plt.scatter(df['X'], df['Y'])\n",
    "plt.plot(df['X'], y_pred, color='red')\n",
    "plt.xlabel('X')\n",
    "plt.ylabel('Y')\n",
    "plt.title('Linear regression')\n",
    "plt.legend()\n",
    "plt.show()"
   ]
  },
  {
   "cell_type": "markdown",
   "metadata": {
    "id": "nCig-VAmciGZ"
   },
   "source": [
    "There are a number of useful analysis tools built into `sklearn`, which we can use to probe the model properties."
   ]
  },
  {
   "cell_type": "code",
   "execution_count": null,
   "metadata": {
    "colab": {
     "base_uri": "https://localhost:8080/"
    },
    "id": "kMbj2K18ciGZ",
    "outputId": "71c7a60b-20c2-453c-a410-029f796b6522",
    "tags": []
   },
   "outputs": [],
   "source": [
    "# Print the model paramaters and performance\n",
    "print('Slope:', model2.coef_)\n",
    "print('Intercept:', model2.intercept_)\n",
    "print('R^2:', r2_score(y, y_pred))\n",
    "print('RMSE:', np.sqrt(mean_squared_error(y, y_pred)))"
   ]
  },
  {
   "cell_type": "markdown",
   "metadata": {
    "id": "7K-w3ba2b5zs"
   },
   "source": [
    "<details>\n",
    "<summary> Code hint </summary>\n",
    "Your model is not called `model2`. Try changing the name.\n",
    "</details>"
   ]
  },
  {
   "cell_type": "markdown",
   "metadata": {
    "id": "2D92BAYzciGa"
   },
   "source": [
    "## 🚨 Exercise 1: Solid-state diffusion \n",
    "\n",
    "```{admonition} Weekly exercises\n",
    ":class: note\n",
    "The exercises are designed to apply what you have learned with room for creativity. It is fine to discuss solutions with your classmates, but the actual code should not be directly copied.\n",
    "\n",
    "The completed notebooks are to be submitted at the end of class, but you can revist later, experiment with the code, and follow the further reading suggestions.\n",
    "```\n",
    "\n",
    "### Your details"
   ]
  },
  {
   "cell_type": "code",
   "execution_count": null,
   "metadata": {
    "colab": {
     "base_uri": "https://localhost:8080/"
    },
    "id": "xqgBbaSjb5zs",
    "outputId": "6b5006c5-a3d9-4684-bd96-4266f383bfe4",
    "tags": []
   },
   "outputs": [],
   "source": [
    "import numpy as np\n",
    "\n",
    "# Insert your values\n",
    "Name = \"No Name\" # Replace with your name\n",
    "CID = 123446 # Replace with your College ID (as a numeric value with no leading 0s)\n",
    "\n",
    "# Set a random seed using the CID value\n",
    "CID = int(CID)\n",
    "np.random.seed(CID)\n",
    "\n",
    "# Print the message\n",
    "print(\"This is the work of \" + Name + \" [CID: \" + str(CID) + \"]\")"
   ]
  },
  {
   "cell_type": "markdown",
   "metadata": {
    "id": "DIia0_h9ciGa"
   },
   "source": [
    "### Tasks\n",
    "\n",
    "...."
   ]
  },
  {
   "cell_type": "code",
   "execution_count": null,
   "metadata": {
    "tags": []
   },
   "outputs": [],
   "source": [
    "#Code block \n",
    "\n",
    "\n"
   ]
  },
  {
   "cell_type": "code",
   "execution_count": null,
   "metadata": {},
   "outputs": [],
   "source": [
    "#Comment block\n",
    "\n",
    "\n"
   ]
  },
  {
   "cell_type": "code",
   "execution_count": null,
   "metadata": {
    "tags": []
   },
   "outputs": [],
   "source": [
    "#Code block\n",
    "\n",
    "\n"
   ]
  },
  {
   "cell_type": "code",
   "execution_count": null,
   "metadata": {
    "tags": []
   },
   "outputs": [],
   "source": [
    "#Comment block\n",
    "\n",
    "\n"
   ]
  },
  {
   "cell_type": "markdown",
   "metadata": {
    "tags": []
   },
   "source": [
    "## 🌊 Dive deeper\n",
    "\n",
    "* _Level 1:_ Taylor Sparks has a collection of video lectures on [Python for Materials Engineers](https://www.youtube.com/watch?v=tn1wpfpLx6Y&list=PLL0SWcFqypCmkHClksnGlab3wglEVMqNN&index=2).\n",
    "\n",
    "* _Level 2:_ If you are a matplotlib pro user, try [plotly](https://plotly.com/python) and [bokeh](https://docs.bokeh.org/en/2.4.1/docs/gallery.html) for interactive visualisations.\n",
    "\n",
    "* _Level 3:_ Already a Python master and want something faster? Check out the [Julia](https://julialang.org) language."
   ]
  }
 ],
 "metadata": {
  "colab": {
   "provenance": []
  },
  "kernelspec": {
   "display_name": "Python 3 (ipykernel)",
   "language": "python",
   "name": "python3"
  },
  "language_info": {
   "codemirror_mode": {
    "name": "ipython",
    "version": 3
   },
   "file_extension": ".py",
   "mimetype": "text/x-python",
   "name": "python",
   "nbconvert_exporter": "python",
   "pygments_lexer": "ipython3",
   "version": "3.9.18"
  }
 },
 "nbformat": 4,
 "nbformat_minor": 4
}
