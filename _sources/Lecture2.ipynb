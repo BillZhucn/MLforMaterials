{
 "cells": [
  {
   "cell_type": "markdown",
   "metadata": {
    "id": "M0bb6G8SmaWS"
   },
   "source": [
    "# Materials Modelling"
   ]
  },
  {
   "cell_type": "markdown",
   "metadata": {
    "id": "O5SnZvtemaWT"
   },
   "source": [
    "```{admonition} John Stewart Bell\n",
    ":class: tip\n",
    "Theoretical physicists live in a classical world, looking out into a quantum-mechanical world.\n",
    "```"
   ]
  },
  {
   "cell_type": "markdown",
   "metadata": {
    "id": "9_qtYDp3maWU"
   },
   "source": [
    "<iframe class=\"speakerdeck-iframe\" frameborder=\"0\" src=\"https://speakerdeck.com/player/db5df387845c4802b0bbae449095899c\" title=\"Machine Learning for Materials (Lecture 2)\" allowfullscreen=\"true\" style=\"border: 0px; background-clip: padding-box; background-color: rgba(0, 0, 0, 0.1); margin: 0px; padding: 0px; border-radius: 6px; box-shadow: rgba(0, 0, 0, 0.2) 0px 5px 40px; width: 100%; height: auto; aspect-ratio: 560 / 420;\" data-ratio=\"1.3333333333333333\"></iframe>\n",
    "\n",
    "[Lecture slides](https://speakerdeck.com/aronwalsh/mlformaterials-lecture2-modelling)"
   ]
  },
  {
   "cell_type": "markdown",
   "metadata": {
    "id": "Q5z_MtZhmaWU"
   },
   "source": [
    "## ⚡️ Crystal electrostatics\n",
    "\n",
    "Hello again!\n",
    "\n",
    "This activity aims to build your understanding of using Python for materials modelling. It will require you to think back to undergraduate lectures on crystallography and materials chemistry. You are encouraged to look up concepts that you are not familiar with.\n",
    "\n",
    "We will use the computational materials science package `pymatgen` (https://pymatgen.org). Many Python packages have `py` at the start of their name. This one is useful to manipulate materials through its application programming interface (API). It also allows you to efficiently access and analyse the crystal structures and calculated properties that are available on [Materials Project](https://materialsproject.org).\n",
    "\n",
    "### Theoretical background\n",
    "\n",
    "The classical electrostatic interaction between point charges is described by Coulomb's law. For two interacting ions with charge $q$ and distance $r$ in a medium of dielectric constant $\\epsilon_0$, the electrostatic energy is defined in the usual way:\n",
    "\n",
    "$$\n",
    "    E(r) = \\frac{1}{4 \\pi \\epsilon_0}\\frac{q^2}{r}\n",
    "$$\n",
    "\n",
    "Due to the repeating unit cells, the electrostatic energy of a crystal composed of ions is more complicated to compute. Here, the electrostatic energy is defined by a conditionally convergent series. The number of charges grows with the square of the radius used for the summation.\n",
    "\n",
    "![image](./images/2_sum.png)\n",
    "\n",
    "Ewald summation is a numerical technique to calculate the electrostatic potential energy of a crystal. The mathematical trick used is to split the electrostatic summation into real space and Fourier (reciprocal) space terms to ensure convergence at both short and long ranges. The technical background isn't important now, but is detailed over [here](https://en.wikipedia.org/wiki/Ewald_summation) if you are curious. The corresponding expression can be written as:\n",
    "\n",
    "$$\n",
    "E_{\\text{Ewald}}(r) = \\frac{1}{2} \\sum_{i \\neq j}^{N} q_i q_j \\Bigg[\\frac{\\text{erf}(\\alpha r_{ij})}{r_{ij}} + \\frac{\\text{erfc}(\\alpha r_{ij})}{\\kappa^2} \\exp\\Bigg(-\\frac{\\kappa^2 r_{ij}^2}{4}\\Bigg)\\Bigg] + \\frac{1}{2} \\sum_{i=1}^{N} q_i^2 \\frac{\\alpha}{\\sqrt{\\pi}}\n",
    "$$\n",
    "\n",
    "Luckily, we don't have to solve such an expression by hand. Within `pymatgen`, the `pymatgen.analysis.ewald` module contains the `EwaldSummation` class that enables us to compute the electrostatic energy for any given structure and will be used later."
   ]
  },
  {
   "cell_type": "code",
   "execution_count": null,
   "metadata": {
    "colab": {
     "base_uri": "https://localhost:8080/"
    },
    "id": "SoUk0QGxmaWV",
    "outputId": "aaf317d6-81a0-4de4-e62e-deaa05f23bd5"
   },
   "outputs": [],
   "source": [
    "# Installation of libraries\n",
    "!pip install pymatgen --quiet"
   ]
  },
  {
   "cell_type": "code",
   "execution_count": 1,
   "metadata": {
    "id": "U8lFC3qwmaWW"
   },
   "outputs": [],
   "source": [
    "# Import of modules\n",
    "import pandas as pd  # Data manipulation with DataFrames\n",
    "import numpy as np  # Numerical operations\n",
    "import matplotlib.pyplot as plt  # Plotting\n",
    "from pymatgen.core import Structure, Lattice  # Materials analysis for crystal structures\n",
    "from pymatgen.analysis.ewald import EwaldSummation  # Ewald summation for charged systems\n",
    "from pymatgen.analysis.structure_matcher import StructureMatcher  # Structure matching\n",
    "import itertools  # Functions for efficient looping and iteration"
   ]
  },
  {
   "cell_type": "markdown",
   "metadata": {
    "id": "WvM5-bComaWW"
   },
   "source": [
    "## Create a virtual perovskite"
   ]
  },
  {
   "cell_type": "markdown",
   "metadata": {
    "id": "xADkRSOlmaWW"
   },
   "source": [
    "The [`Structure` module](https://pymatgen.org/pymatgen.core.structure.html) contains the `Structure` class which can be used to represent the unit cell of a crystal.  Remember, this is the simplest repeat unit of a crystal that is defined by three unit cell lengths (**a**,**b**,**c**), three angles ($\\alpha,\\beta,\\gamma$), and the fractional coordinates of the atoms that it contains.\n",
    "\n",
    "Below, we will create a model of a cubic perovskite from its spacegroup, Pm3̅m (No. 221). For a cubic unit cell **a** = **b** = **c** and $\\alpha = \\beta = \\gamma = 90 ^{\\circ}$, so we only need to know the length of **a**.\n",
    "\n",
    "We will now generate a structure for CsPbI<sub>3</sub> from a spacegroup using the class method `Structure.from_spacegroup()`.\n",
    "\n",
    "![image](./images/2_CsPbI3.png)\n",
    "\n",
    "This graphic was created using [VESTA](https://jp-minerals.org/vesta/en)."
   ]
  },
  {
   "cell_type": "code",
   "execution_count": 15,
   "metadata": {
    "id": "V31RgszbmaWX"
   },
   "outputs": [],
   "source": [
    "# Create a structure for cubic CsPbI3 using pymatgen\n",
    "#\n",
    "# We must define the spacegroup, unit cell (lattice) dimensions, \n",
    "# chemical species and their coordinates\n",
    "#\n",
    "CsPbI3 = Structure.from_spacegroup(\n",
    "'Pm-3m', # Spacegroup for a cubic perovskite\n",
    "Lattice.cubic(6.41), # Cubic spacing of 6.41 Å\n",
    "['Pb2+', 'Cs+', 'I-'], # Unique species of the ABX3 compound\n",
    "[[0.,0.,0.],[0.5,0.5,0.5],[0.,0.,0.5]] # Fractional atomic coordinates of each site\n",
    ")"
   ]
  },
  {
   "cell_type": "markdown",
   "metadata": {
    "id": "4DEpxCc8maWX"
   },
   "source": [
    "We can display information about the structure that we have created by simply printing it."
   ]
  },
  {
   "cell_type": "code",
   "execution_count": null,
   "metadata": {
    "colab": {
     "base_uri": "https://localhost:8080/"
    },
    "id": "YpqRxLF4maWX",
    "outputId": "3e1d8c09-ff9a-4b55-bc1f-b44c508f3628"
   },
   "outputs": [],
   "source": [
    "# Print the structure details\n",
    "print()"
   ]
  },
  {
   "cell_type": "markdown",
   "metadata": {
    "id": "GBbUqPQGSCHe",
    "tags": []
   },
   "source": [
    "<details>\n",
    "<summary> Code hint </summary>\n",
    "You want to print your structure object CsPbI3\n",
    "</details>"
   ]
  },
  {
   "cell_type": "markdown",
   "metadata": {
    "id": "RJhB0R6OmaWY"
   },
   "source": [
    "Within `pymatgen`, we can export crystal structures to a variety of file formats using the `to` method of the `Structure` class. Some of these include the Crystallographic Information Format (cif) and POSCAR (the standard file format for the density functional theory code VASP). A complete list of file formats can be found in [the docs](https://pymatgen.org/pymatgen.core.structure.html#pymatgen.core.structure.IStructure.to) for the `Structure` class.\n",
    "\n",
    "The `filename` argument of the `to` method needs to be specified to save the file to disk. Only supplying the `fmt` argument will result in a string being returned."
   ]
  },
  {
   "cell_type": "code",
   "execution_count": null,
   "metadata": {
    "colab": {
     "base_uri": "https://localhost:8080/"
    },
    "id": "dAObXT9LmaWY",
    "outputId": "57e31be1-4636-42ed-d838-f5f6729ba8e3"
   },
   "outputs": [],
   "source": [
    "# Print the file to screen\n",
    "print('\\nThe CIF format for CsPbI3 is shown below:\\n')\n",
    "print(CsPbI3.to(fmt='cif'))\n",
    "\n",
    "# Export the structure to a CIF\n",
    "# CsPbI3.to(filename='CsPbI3.cif')"
   ]
  },
  {
   "cell_type": "markdown",
   "metadata": {
    "id": "EgK6hhjSmaWY"
   },
   "source": [
    "<details>\n",
    "<summary> Code hint </summary>\n",
    "You can export a .cif by uncommenting and running the lines above. These files can be opened in a visualiser of your choice (e.g. VESTA or Crystalmaker).\n",
    "</details>"
   ]
  },
  {
   "cell_type": "markdown",
   "metadata": {
    "id": "tfMddwbQmaWY"
   },
   "source": [
    "We can make an ionic approximation for CsPbI<sub>3</sub> and consider that the crystal is formed of Cs<sup>+</sup>, Pb<sup>2+</sup>, and I<sup>-</sup> ions. The crystal is charge neutral overall as the sum of cations (3$^+$) is balanced by the sum of anions (3$^-$). This model is a reasonable starting point, but it is worth remembering than bonding in real solids is more complicated than a simple classification of \"ionic\", \"covalent\" or \"metallic\" (e.g. see this [perspective](https://www.nature.com/articles/s41563-018-0165-7))."
   ]
  },
  {
   "cell_type": "code",
   "execution_count": null,
   "metadata": {
    "colab": {
     "base_uri": "https://localhost:8080/"
    },
    "id": "HPeGbndnmaWY",
    "outputId": "5acbf497-db69-413f-961d-eaca6cb4b2d7"
   },
   "outputs": [],
   "source": [
    "# Instantiate the EwaldSummation class with our perovskite structure\n",
    "es = EwaldSummation(CsPbI)\n",
    "\n",
    "# Print the computed Ewald Sum\n",
    "print(f' The electrostatic energy of CsPbI3 is {es.total_energy:.2f} eV')"
   ]
  },
  {
   "cell_type": "markdown",
   "metadata": {
    "id": "K74Ne8DISCHe"
   },
   "source": [
    "<details>\n",
    "<summary> Code hint </summary>\n",
    "Check that the chemical formula is correct.</details>"
   ]
  },
  {
   "cell_type": "markdown",
   "metadata": {
    "id": "DXU9WKBGmaWZ"
   },
   "source": [
    "## Create a virtual double perovskite\n",
    "\n",
    "A three-component ABX$_3$ perovskite isn't always enough to access the properties that we want. There are many ways to expand the crystal chemical space of perovskites. One approach is to double the unit cell from ABX$_3$ to A$_2$B$_2$X$_6$. We can replace one of the B sites by B' to form a A$_2$BB'X$_6$ compound. It turns out that this is the natural structure of the mineral elpasolite K$_2$NaAlF$_6$ (e.g. see a [review](https://www.sciencedirect.com/science/article/pii/S136970212030451X) on the topic).\n",
    "\n",
    "![image](./images/2_Cs2AgBiI6.png)\n",
    "\n",
    "A graphic of the double halide perovskite Cs<sub>2</sub>AgBiI<sub>6</sub>, where the octahedral B-site is occupied by two distint cations Ag and Bi."
   ]
  },
  {
   "cell_type": "markdown",
   "metadata": {
    "id": "pRA3Mna9maWZ"
   },
   "source": [
    "### Partial site occupancies\n",
    "\n",
    "Each species occupied a distinct atomic site in the original CsPbI<sub>3</sub> structure. This structure can be classified as ordered. However, many materials have more complex structures that include some form of disorder in how the species are distributed over crystallographic sites. \n",
    "\n",
    "For example, imagine a one-dimensional nanowire with frogs and foxes in a 1:1 ratio, where each site has a 50\\% probabily of being occupied by 🐸 or 🦊. These may form local sequences such as (🐸🦊🐸🦊🐸🦊), (🐸🐸🦊🐸🦊🦊) and (🐸🐸🐸🦊🦊🦊).\n",
    "\n",
    "This type of disorder in a crystal is termed partial site occupancy, where a mixture of atoms (and sometimes vacancies) occupy the same crystallographic site. It is common in substitutional alloys of the form A$_{1-x}$B$_x$. We can create structures with partial occupancies in `pymatgen` by specifying the occupancy of the atoms in the structure that we create. If Pb<sup>2+</sup> is replaced by an equivalent number of Ag<sup>+</sup> and Bi<sup>3+</sup> cations, then the charge balance of the crystal is maintained. In terms of charges:\n",
    "\n",
    "$$\n",
    "2 q(\\mathrm{Pb}^{2+}) = 4^+ = q(\\mathrm{Ag}^+) + q(\\mathrm{Bi}^{3+})\n",
    "$$"
   ]
  },
  {
   "cell_type": "code",
   "execution_count": null,
   "metadata": {
    "colab": {
     "base_uri": "https://localhost:8080/"
    },
    "id": "Gp3QuKgLmaWZ",
    "outputId": "33428b41-e793-4ceb-cb81-fac9bec3d115"
   },
   "outputs": [],
   "source": [
    "# Replace Pb2+ ions with Ag+ and Bi3+ in CsPbI3\n",
    "\n",
    "# Create a copy of the structure\n",
    "Cs2AgBiI6 = CsPbI3.copy()\n",
    "\n",
    "# Change the first ion (Pb2+) to 0.5Ag+, 0.5Bi3+\n",
    "Cs2AgBiI6[0] = {'Ag+':0.5, 'Bi3+':0.5}\n",
    "\n",
    "# Print the structure\n",
    "print(Cs2AgBiI6)"
   ]
  },
  {
   "cell_type": "markdown",
   "metadata": {
    "id": "iwjg2TNnmaWa"
   },
   "source": [
    "To model the double perovskite structure, we have substituted both Ag and Bi onto the Pb site in CsPbI<sub>3</sub>.\n",
    "\n",
    "The substitution onto the 5-atom unit cell has produced a statistically disordered structure due to Ag and Bi both occupying the same site with partial occupancies of 50%. To use this structure as an input for material modelling, we should make an ordered representation of the structure. This may be a set of ordered configurations that forms an ensemble to represent the disordered nature of the true material.\n",
    "\n",
    "We can achieve this by creating a supercell. Expanding the unit cell twice in each direction (i.e. $2\\textbf{a} \\times 2\\textbf{b} \\times 2\\textbf{c}$) produces a 40-atom supercell with 8 Pb sites. We could then distribute the 4 Ag and 4 Bi atoms across these 8 Pb sites. This approach introduces a new problem: which sites do we choose to substitute the Ag and Bi atoms? The choice of substitution would affect the structure and energy of the double perovskite, (⍰ ⍰ ⍰ ⍰ ⍰ ⍰ ⍰ ⍰)?\n",
    "\n",
    "Let's create a supercell of our CsPbI<sub>3</sub> perovskite. We can do this using the `.make_supercell()` method of the `Structure` class.  Note this is an in-place operation, which means that the operation is applied to the existing `Structure` object and returns nothing."
   ]
  },
  {
   "cell_type": "code",
   "execution_count": null,
   "metadata": {
    "colab": {
     "base_uri": "https://localhost:8080/"
    },
    "id": "DmSOR26_maWa",
    "outputId": "a1bada3b-06a0-478e-efba-7332bcb22891"
   },
   "outputs": [],
   "source": [
    "# Create a 2a x 2b x 2c supercell of the cubic CsPbI3 structure\n",
    "supercell = CsPbI3.copy()\n",
    "supercell.make_supercell(2) # or 2,2,2, i.e. doubled in each direction\n",
    "\n",
    "# Print the supercell\n",
    "print(supercell)"
   ]
  },
  {
   "cell_type": "markdown",
   "metadata": {
    "id": "LkyTTfkFmaWa"
   },
   "source": [
    "Before moving on, think about how you would try distribute the Ag<sup>+</sup> and Bi<sup>3+</sup> ions on the eight Pb<sup>2+</sup> sites, e.g. (🐸🦊🐸🦊🐸🦊🐸🦊) and (🐸🐸🐸🐸🦊🦊🦊🦊)."
   ]
  },
  {
   "cell_type": "markdown",
   "metadata": {
    "id": "evODBnoBmaWb"
   },
   "source": [
    "### Structure combinatorics\n",
    "\n",
    "To model a disordered crystal at the nanoscale, one approach is to enumerate all of the different atomic configurations in a supercell. We should consider the disordered sites and calculate the possible permutations (arrangements) of the ions.\n",
    "\n",
    "The number of permutations $\\textit{P}$ for a crystallographic site with $N$ different atoms, which have multiplicities $m_i$, for $i = 1 ... N$ occupying the site can be calculated using the formula for a multi-set permutation:\n",
    "\n",
    "$$\n",
    "    P(m_1,m_2,...,m_N) = \\frac{(m_1+m_2+...+m_N)!}{m_1!m_2!...m_N!}=\\frac{(\\sum_{i=1}^{N} m_i)!}{\\prod_{i=1}^{N} k_i!}\n",
    "$$\n",
    "\n",
    "For our double perovskite structure, try to think of how many permutations of Ag and Bi are possible in the $2\\textbf{a} \\times 2\\textbf{b} \\times 2\\textbf{c}$ supercell with 8 Pb sites."
   ]
  },
  {
   "cell_type": "markdown",
   "metadata": {
    "id": "CpnFomZOmaWb"
   },
   "source": [
    "###  Permutations of a string\n",
    "For calculating permutations of an iterable object, we can use the `itertools.permutations()` function. A description of this function can be found in [`itertools` docs](https://docs.python.org/3/library/itertools.html#itertools.permutations). Note that the permutations produced using this function might not necessarily be unique.\n",
    "To understand the idea, we will consider the permutations of the `string` '🐸🦊🦊🙀'.\n",
    "\n",
    "Before you run the cell block below, think of the number of permutations of '🐸🦊🦊🙀'."
   ]
  },
  {
   "cell_type": "code",
   "execution_count": null,
   "metadata": {
    "colab": {
     "base_uri": "https://localhost:8080/"
    },
    "id": "B1tGQHVcSCHf",
    "outputId": "d86c03ef-39c3-4900-e741-b4c80342acd3",
    "tags": []
   },
   "outputs": [],
   "source": [
    "# Generate permutations\n",
    "permutations = itertools.permutations('🐸🦊🦊🙀') # This returns an itertools.permutation object\n",
    "\n",
    "# Convert the above object to a list\n",
    "perms_list = list(permutations)\n",
    "\n",
    "# Print out the list\n",
    "print(f\"We have {len(perms_list)} permutations:\")\n",
    "print(p_list)"
   ]
  },
  {
   "cell_type": "markdown",
   "metadata": {
    "id": "NRRBDnICSCHf"
   },
   "source": [
    "<details>\n",
    "<summary> Code hint </summary>\n",
    "Print the correct list in the last line.\n",
    "</details>"
   ]
  },
  {
   "cell_type": "markdown",
   "metadata": {
    "id": "hbMPAdNlmaWb"
   },
   "source": [
    "From the above output, we can see that there are duplicate entries from the permutation of 🐸🦊🦊🙀. This happens as `itertools` considers elements in an iterable to be unique based of their position rather than their value. While this can be easy to spot in the example above, manually trying to filter out duplicate permutations is not an efficient use of our time.\n",
    "\n",
    "Fortanately, we can reduce the permutations to a list of unique permutations quite simply using the `set` function."
   ]
  },
  {
   "cell_type": "code",
   "execution_count": null,
   "metadata": {
    "colab": {
     "base_uri": "https://localhost:8080/"
    },
    "id": "ADB_m_8kmaWb",
    "outputId": "b6d8cb7e-61fb-42f5-d3c4-30ee92bfe687"
   },
   "outputs": [],
   "source": [
    "# Create a set for the permutations\n",
    "perms_set = set(perms_list)\n",
    "print(f\"We have {len(perms_set)} unique permutations:\")\n",
    "print(perms_set)"
   ]
  },
  {
   "cell_type": "markdown",
   "metadata": {
    "id": "-XFK-fRFmaWc"
   },
   "source": [
    "We have removed the duplicate entries and returned the unique permutations of the string. Imagine how useful this is when dealing with complex structures containing hundreds of atoms and millions of permutations."
   ]
  },
  {
   "cell_type": "markdown",
   "metadata": {
    "id": "_gJzO3jumaWc"
   },
   "source": [
    "## 🚨 Exercise 2: Atomic permutations\n",
    "\n",
    "```{admonition} Coding exercises\n",
    ":class: note\n",
    "The exercises are designed to apply what you have learned with room for creativity. It is fine to discuss solutions with your classmates, but the actual code should not be directly copied.\n",
    "\n",
    "The completed notebooks are to be submitted at the end of class, but you can revist later, experiment with the code, and follow the further reading suggestions.\n",
    "```\n",
    "\n",
    "### Your details"
   ]
  },
  {
   "cell_type": "code",
   "execution_count": null,
   "metadata": {
    "colab": {
     "base_uri": "https://localhost:8080/"
    },
    "id": "1ugSBga1SCHf",
    "outputId": "512561ac-2e02-4f31-e53c-0caba28bc675",
    "tags": []
   },
   "outputs": [],
   "source": [
    "import numpy as np\n",
    "\n",
    "# Insert your values\n",
    "Name = \"No Name\" # Replace with your name\n",
    "CID = 123446 # Replace with your College ID (as a numeric value with no leading 0s)\n",
    "\n",
    "# Set a random seed using the CID value\n",
    "CID = int(CID)\n",
    "np.random.seed(CID)\n",
    "\n",
    "# Print the message\n",
    "print(\"This is the work of \" + Name + \" [CID: \" + str(CID) + \"]\")"
   ]
  },
  {
   "cell_type": "markdown",
   "metadata": {
    "id": "VAStKs-9maWc"
   },
   "source": [
    "### Tasks\n",
    "\n",
    "You have one task to complete involving the double perovskite Cs<sub>2</sub>AgBiI<sub>6</sub>:\n",
    "\n",
    "1. Extend the code below to create unique permutations for Ag<sup>+</sup> and Bi<sup>3+</sup> ions in the perovskite supercell. How many unique permutations are there?\n",
    "\n",
    "```python\n",
    "# Create a 2a x 2b x 2c supercell of the cubic CsPbI3 structure\n",
    "supercell = CsPbI3.copy()\n",
    "supercell.make_supercell(2) # doubled in each direction\n",
    "\n",
    "# Place Ag+ and Bi3+ on the Pb2+ atomic sites\n",
    "for i in range(4):\n",
    "  supercell[i] = 'Ag+'\n",
    "for i in range(4, 8):\n",
    "  supercell[i] = 'Bi3+'\n",
    "\n",
    "# Define the set of these B-sites\n",
    "b_species = supercell.species[0:8]\n",
    "```\n",
    "\n",
    "*Self-study (optional)*  \n",
    "\n",
    "2. Generate structures corresponding to the unique permutations of Ag and Bi. This involves substituting the Pb sites in the crystal structure with Ag and Bi. Plot the distribution of electrostatic energies calculated using `EwaldSummation`.\n",
    "  \n",
    "3. Visualise the structures of the lowest energy configurations. Is there anything special about the Ag and Bi arrangement? Remember that in thermodynamic equilibrium, these configurations will be the most abundant (recall [Boltzmann statistics](https://en.wikipedia.org/wiki/Boltzmann_distribution)).\n",
    "\n",
    "<details>\n",
    "<summary> Task hint </summary>\n",
    "One approach for task 2 involves populating a list of structures, e.g. starting from `Structures = []`.\n",
    "</details>\n",
    "\n",
    "```{admonition} Submission\n",
    ":class: note\n",
    "When your notebook is complete, click on the download icon on the top right, select `.pdf`, save the file and upload it to MyDepartment. If you are using Google Colab, you have to print to pdf.\n",
    "```"
   ]
  },
  {
   "cell_type": "code",
   "execution_count": null,
   "metadata": {
    "colab": {
     "base_uri": "https://localhost:8080/"
    },
    "id": "GIEk0Hx_SCHf",
    "outputId": "23506f05-9577-4047-a529-ca849428ff95"
   },
   "outputs": [],
   "source": [
    "#Code block\n",
    "\n",
    "\n"
   ]
  },
  {
   "cell_type": "code",
   "execution_count": null,
   "metadata": {
    "id": "vFIOO9meSCHf"
   },
   "outputs": [],
   "source": [
    "#Comment block\n",
    "\n",
    "\n"
   ]
  },
  {
   "cell_type": "code",
   "execution_count": null,
   "metadata": {
    "colab": {
     "base_uri": "https://localhost:8080/",
     "height": 470
    },
    "id": "lHkYgwGmSCHf",
    "outputId": "024a0c7e-7c6f-484d-fc7d-84736a21f094"
   },
   "outputs": [],
   "source": [
    "#Code block\n",
    "\n",
    "\n"
   ]
  },
  {
   "cell_type": "code",
   "execution_count": null,
   "metadata": {
    "colab": {
     "base_uri": "https://localhost:8080/",
     "height": 453
    },
    "id": "AoGtgegHSCHf",
    "outputId": "5e641819-67f3-4448-f2a3-e511c00a3c34"
   },
   "outputs": [],
   "source": [
    "#Comment block\n",
    "\n",
    "\n"
   ]
  },
  {
   "cell_type": "markdown",
   "metadata": {
    "id": "shiuwZ-cmaWk"
   },
   "source": [
    "## 🌊 Dive deeper\n",
    "\n",
    "* _Level 1:_ If you are not comfortable with optimisation techniques such as gradient descent, read Chapter 2 of [Machine Learning Refined](https://github.com/jermwatt/machine_learning_refined#what-is-new-in-the-second-edition). Otherwise, skip to Chapter 5 on linear regression. \n",
    "\n",
    "* _Level 2:_ An introductory review on the Materials Project published in [APL Materials](https://aip.scitation.org/doi/10.1063/1.4812323).\n",
    "\n",
    "* _Level 3:_ [icet](https://icet.materialsmodeling.org) is a powerful Python package for modelling disordered crystals based on the cluster expansion approach."
   ]
  }
 ],
 "metadata": {
  "colab": {
   "provenance": [],
   "toc_visible": true
  },
  "kernelspec": {
   "display_name": "Python 3 (ipykernel)",
   "language": "python",
   "name": "python3"
  },
  "language_info": {
   "codemirror_mode": {
    "name": "ipython",
    "version": 3
   },
   "file_extension": ".py",
   "mimetype": "text/x-python",
   "name": "python",
   "nbconvert_exporter": "python",
   "pygments_lexer": "ipython3",
   "version": "3.10.9"
  },
  "vscode": {
   "interpreter": {
    "hash": "25a19fbe0a9132dfb9279d48d161753c6352f8f9478c2e74383d340069b907c3"
   }
  }
 },
 "nbformat": 4,
 "nbformat_minor": 4
}
